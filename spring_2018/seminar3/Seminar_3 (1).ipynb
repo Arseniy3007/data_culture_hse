{
 "cells": [
  {
   "cell_type": "markdown",
   "metadata": {},
   "source": [
    "## Визуализация"
   ]
  },
  {
   "cell_type": "markdown",
   "metadata": {},
   "source": [
    "Зачем оно нам надо?"
   ]
  },
  {
   "cell_type": "markdown",
   "metadata": {},
   "source": [
    "Вспоминаем (или узнаем заново) материал из <a href=\"https://drive.google.com/file/d/1htRh6_PBknB6oF7my8u-ILgNz0wtxIch/view\">ЛЕКЦИИ</a>"
   ]
  },
  {
   "cell_type": "markdown",
   "metadata": {},
   "source": [
    "Конечно, можно было бы рисовать диаграммы так...."
   ]
  },
  {
   "cell_type": "markdown",
   "metadata": {},
   "source": [
    "![alt text](https://media.giphy.com/media/YBIxUwCdysgaJgkmsP/giphy.gif \"Гифка1\")"
   ]
  },
  {
   "cell_type": "markdown",
   "metadata": {},
   "source": [
    "Но, пожалуй, мы пойдем другим путем и научимся пользоваться библиотеками Python"
   ]
  },
  {
   "cell_type": "code",
   "execution_count": null,
   "metadata": {
    "collapsed": true
   },
   "outputs": [],
   "source": [
    "import pandas as pd\n",
    "import matplotlib.pyplot as plt\n",
    "%matplotlib inline\n",
    "import numpy as np"
   ]
  },
  {
   "cell_type": "markdown",
   "metadata": {},
   "source": [
    "## Библиотека Matplotlib \n",
    " - <a href=\"http://http://matplotlib.org/\">matplotlib</a> - основная библиотека для базовой визуализации данных"
   ]
  },
  {
   "cell_type": "markdown",
   "metadata": {},
   "source": [
    "### Характеристики графиков"
   ]
  },
  {
   "cell_type": "markdown",
   "metadata": {},
   "source": [
    "#### Оформление\n",
    "- Заголовок области рисования -> plt.title();\n",
    "- Подпись оси абсцисс OX -> plt.xlabel();\n",
    "- Подпись оси ординат OY -> plt.ylabel();\n",
    "- Легенда -> plt.legend()\n",
    "- Деления на оси абсцисс OX -> plt.xticks()\n",
    "- Деления на оси ординат OY -> plt.yticks()"
   ]
  },
  {
   "cell_type": "markdown",
   "metadata": {},
   "source": [
    "#### Размер:\n",
    "- plt.figure(figsize = (width, heigth))  - задаем размер графика в дюймах "
   ]
  },
  {
   "cell_type": "markdown",
   "metadata": {},
   "source": [
    "#### Названия цветов"
   ]
  },
  {
   "cell_type": "markdown",
   "metadata": {},
   "source": [
    "![alt text](https://i.stack.imgur.com/lFZum.png \"Цвета\")"
   ]
  },
  {
   "cell_type": "markdown",
   "metadata": {},
   "source": [
    "### Виды графиков:\n"
   ]
  },
  {
   "cell_type": "markdown",
   "metadata": {},
   "source": [
    "Очень важно выбрать нужный тип визуализации! Можно использовать для этого этот путеводитель по графикам, давайте повторим основные типы и сферы их использования:"
   ]
  },
  {
   "cell_type": "markdown",
   "metadata": {},
   "source": [
    "![alt text](http://bigdata.black/wp-content/uploads/2016/04/best-chart-1.png \"Гифка1\")"
   ]
  },
  {
   "cell_type": "markdown",
   "metadata": {},
   "source": [
    "\n",
    "#### Ломаная линия\n",
    "- plt.plot() </br>\n",
    "<b>Зачем:</b> Будем использовать его, если хотим показать характер зависимости двух переменных. По сути, просто линия, которая строится по заданным точкам."
   ]
  },
  {
   "cell_type": "code",
   "execution_count": null,
   "metadata": {
    "collapsed": true
   },
   "outputs": [],
   "source": [
    "x = pd.Series(list(range(10)))\n",
    "y = x**4\n",
    "#Постройте график по значениям y и x\n",
    "plt.title('Содержательный заголовок')\n",
    "plt.xlabel('Ось x')\n",
    "#Подпишите ось y\n",
    "plt.show()"
   ]
  },
  {
   "cell_type": "markdown",
   "metadata": {},
   "source": [
    "#### Точечный график\n",
    "- plt.scatter()\n",
    "\n",
    "<b>Зачем:</b> можно демонстрировать распределение объектов, используется для построения диаграммы, илюстрирующей силу связи (при проведении корреляционного анализа)"
   ]
  },
  {
   "cell_type": "code",
   "execution_count": null,
   "metadata": {
    "collapsed": true
   },
   "outputs": [],
   "source": [
    "plt.scatter(x,y)"
   ]
  },
  {
   "cell_type": "markdown",
   "metadata": {},
   "source": [
    "#### Столбчатая диаграмма\n",
    "- plt.bar()\n",
    "\n",
    "<b> Зачем: </b> Можно продемонстрировать распределение значений по категориям, сравнивать их между собой.\n",
    "\n",
    "Попробуем отрисовать сразу два графика на одном рисунке:"
   ]
  },
  {
   "cell_type": "code",
   "execution_count": null,
   "metadata": {
    "collapsed": true
   },
   "outputs": [],
   "source": [
    "\n",
    "X = [1,0,8,3,4]\n",
    "Y = [1,8,2,4,8]\n",
    "\n",
    "#Задайте еще 2 вектора такой же размерности\n",
    "X2 = # YOUR CODE HERE\n",
    "\n",
    "Y2 = # YOUR CODE HERE\n",
    "\n",
    "\n",
    "plt.bar(X,Y, label=\"Bar1\", color='r')\n",
    "#YOUR CODE HERE: график для X2 и Y2\n",
    "\n",
    "#Подпишите название графика, названия осей и добавьте легенду:\n",
    "\n",
    "#YOUR CODE HERE\n",
    "\n",
    "plt.show()"
   ]
  },
  {
   "cell_type": "markdown",
   "metadata": {},
   "source": [
    "Попробуем посмотреть другие варианты оформления (а заодно вспомним про циклы): с помощью дополнительного условия можно автоматически перекрашивать часть столбцов по вашему усмотрению."
   ]
  },
  {
   "cell_type": "code",
   "execution_count": null,
   "metadata": {
    "collapsed": true
   },
   "outputs": [],
   "source": [
    "x = np.arange(5)\n",
    "y = np.random.randn(5)\n",
    "vert_bars = plt.bar(x, y, color='lightblue', align='center')\n",
    "\n",
    "# Можно покрасить часть столбцов в другой цвет\n",
    "for bar, height in zip(vert_bars, y):\n",
    "    if height < 0:\n",
    "        bar.set(edgecolor='darkred', color='salmon', linewidth=3)\n",
    "        \n",
    "#Задайте размер графика на Ваше усмотрение:\n",
    "# YOUR CODE HERE\n",
    "\n",
    "plt.show()"
   ]
  },
  {
   "cell_type": "markdown",
   "metadata": {},
   "source": [
    "#### Круговая диаграмма\n",
    "- plt.pie()\n",
    "\n",
    "<b>Зачем: </b> С помощью круговой диаграммы удобно показывать, какую часть от целого занимает категория переменной."
   ]
  },
  {
   "cell_type": "code",
   "execution_count": null,
   "metadata": {
    "collapsed": true
   },
   "outputs": [],
   "source": [
    "# Задайте вектор, который будет содержать количество часов, которое Вы тратите на сон, еду, учебу/работу и развлечения (всего 4 значения)\n",
    "slices = # YOUR CODE HERE\n",
    "\n",
    "\n",
    "# Labels\n",
    "activities = ['Сон','Еда','Учеба/Работа','Развлечения']\n",
    "\n",
    "#Задайте список из 4 цветов:\n",
    "cols = # YOUR CODE HERE\n",
    "plt.pie(slices, labels=activities, colors=cols)\n",
    "\n",
    "plt.title # YOUR CODE HERE\n",
    "\n",
    "plt.show()"
   ]
  },
  {
   "cell_type": "markdown",
   "metadata": {},
   "source": [
    "#### Гистограмма\n",
    "- plt.hist() - гистограмма\n",
    "\n",
    "<b> Зачем: </b> Можно показать распределение объектов по частоте их появления.\n",
    "\n",
    "\n",
    "По оси x отложены интервалы значений, а по у количество наблюдений в данном интервале."
   ]
  },
  {
   "cell_type": "code",
   "execution_count": null,
   "metadata": {
    "collapsed": true
   },
   "outputs": [],
   "source": [
    "from numpy.random import normal\n",
    "sample = normal(size=1000)     #1000 значений из нормального распределения\n",
    "plt.hist(sample)               \n",
    "plt.title(\"Gaussian Histogram\")\n",
    "plt.xlabel(\"Value\")\n",
    "plt.ylabel(\"Frequency\")"
   ]
  },
  {
   "cell_type": "markdown",
   "metadata": {},
   "source": [
    "#### Boxplot (ящик с усами)"
   ]
  },
  {
   "cell_type": "markdown",
   "metadata": {},
   "source": [
    "- plt.hist() - гистограмма\n",
    "\n",
    "Один из самых информативных графиков для демонстрации основных характер выборки, на иллюстрации ниже можно видеть, как интерпретировать данный график:"
   ]
  },
  {
   "cell_type": "markdown",
   "metadata": {},
   "source": [
    "![alt text](https://justinsighting.com/wp-content/uploads/2016/12/boxplot-description.png \"Боксплот\")"
   ]
  },
  {
   "cell_type": "markdown",
   "metadata": {},
   "source": [
    "Построить боксплот по сгенерированной для гистограммы выборке"
   ]
  },
  {
   "cell_type": "code",
   "execution_count": null,
   "metadata": {
    "collapsed": true
   },
   "outputs": [],
   "source": [
    "# YOUR CODE HERE"
   ]
  },
  {
   "cell_type": "markdown",
   "metadata": {},
   "source": [
    "### Несколько графиков в поле\n",
    "Возможно, Вам понадобится вывести несколько графиков на одно поле <br />\n",
    "Для этого можно использовать функцию subplots: <br />\n",
    "fig, axes = plt.subplots(nrows=2, ncols=2, figsize = (width, height))"
   ]
  },
  {
   "cell_type": "code",
   "execution_count": null,
   "metadata": {
    "collapsed": true
   },
   "outputs": [],
   "source": [
    "fig, axes = plt.subplots(nrows=2, ncols=2, figsize = (7, 7)) # Мы задали 4 области для графика: 2 сверху и 2 снизу\n",
    "x = pd.Series(list(range(10)))\n",
    "y = x**4\n",
    "axes[0, 0].plot(x,y) #График пояится слева сверху\n",
    "\n",
    "# Придумайте еще 3 функции для y и постройте их в оставшихся областях:\n",
    "\n",
    "# YOUR CODE HERE"
   ]
  },
  {
   "cell_type": "markdown",
   "metadata": {},
   "source": [
    "## Библиотека seaborn\n",
    "Это пакет-надстройка к matplotlib. Зачастую графики с помощью этой библиотеки строить проще и выглядят они красивее и эстетичнее"
   ]
  },
  {
   "cell_type": "code",
   "execution_count": null,
   "metadata": {
    "collapsed": true
   },
   "outputs": [],
   "source": [
    "import seaborn as sns"
   ]
  },
  {
   "cell_type": "markdown",
   "metadata": {},
   "source": [
    "В seaborn можно менять стили области построения:"
   ]
  },
  {
   "cell_type": "code",
   "execution_count": null,
   "metadata": {
    "collapsed": true
   },
   "outputs": [],
   "source": [
    "sns.set_style(\"dark\")\n",
    "sns.distplot(sample)"
   ]
  },
  {
   "cell_type": "code",
   "execution_count": null,
   "metadata": {
    "collapsed": true
   },
   "outputs": [],
   "source": [
    "sns.set_style(\"whitegrid\")\n",
    "sns.distplot(sample)"
   ]
  },
  {
   "cell_type": "code",
   "execution_count": null,
   "metadata": {
    "collapsed": true
   },
   "outputs": [],
   "source": [
    "sns.set_style(\"dark\")\n",
    "sns.distplot(sample)"
   ]
  },
  {
   "cell_type": "code",
   "execution_count": null,
   "metadata": {
    "collapsed": true
   },
   "outputs": [],
   "source": [
    "sns.set_style(\"white\")\n",
    "sns.distplot(sample)"
   ]
  },
  {
   "cell_type": "markdown",
   "metadata": {},
   "source": [
    "Можно настраивать цветовые палитры!\n",
    "Вот пример некоторых палитр:"
   ]
  },
  {
   "cell_type": "markdown",
   "metadata": {},
   "source": [
    "![alt text](http://jose-coto.com/img-post/color_brewer_qual.png \"Палитры\")"
   ]
  },
  {
   "cell_type": "code",
   "execution_count": null,
   "metadata": {
    "collapsed": true
   },
   "outputs": [],
   "source": [
    "df = sns.load_dataset('iris')\n",
    "sns.boxplot( x=df[\"species\"], y=df[\"sepal_length\"], palette=\"Pastel1\")"
   ]
  },
  {
   "cell_type": "markdown",
   "metadata": {},
   "source": [
    "Или можно покрасить каждую часть в свой цвет:"
   ]
  },
  {
   "cell_type": "code",
   "execution_count": null,
   "metadata": {
    "collapsed": true
   },
   "outputs": [],
   "source": [
    "df = sns.load_dataset('iris')\n",
    "my_pal = {\"versicolor\": \"g\", \"setosa\": \"olive\", \"virginica\":\"m\"}\n",
    "sns.boxplot( x=df[\"species\"], y=df[\"sepal_length\"], palette=my_pal)"
   ]
  },
  {
   "cell_type": "markdown",
   "metadata": {},
   "source": [
    "### Тепловая карта:"
   ]
  },
  {
   "cell_type": "code",
   "execution_count": null,
   "metadata": {
    "collapsed": true
   },
   "outputs": [],
   "source": [
    "sns.set()\n",
    "\n",
    "flights_long = sns.load_dataset(\"flights\")\n",
    "flights = flights_long.pivot(\"month\", \"year\", \"passengers\")\n",
    "\n",
    "\n",
    "f, ax = plt.subplots(figsize=(9, 6))\n",
    "sns.heatmap(flights, annot=True, fmt=\"d\", linewidths=.5, ax=ax)"
   ]
  },
  {
   "cell_type": "markdown",
   "metadata": {},
   "source": [
    "###  Сравнение показателей по нескольким категориям"
   ]
  },
  {
   "cell_type": "code",
   "execution_count": null,
   "metadata": {
    "collapsed": true
   },
   "outputs": [],
   "source": [
    "titanic = sns.load_dataset(\"titanic\")\n",
    "sns.barplot(x=\"sex\", y=\"survived\", hue=\"class\", data=titanic)"
   ]
  },
  {
   "cell_type": "markdown",
   "metadata": {},
   "source": [
    "### Отображение распределения+корреляции"
   ]
  },
  {
   "cell_type": "code",
   "execution_count": null,
   "metadata": {
    "collapsed": true
   },
   "outputs": [],
   "source": [
    "#Cгенерируйте 100 случайных наблюдений для каждой переменной\n",
    "data1 = # YOUR CODE HERE\n",
    "data2 = # YOUR CODE HERE"
   ]
  },
  {
   "cell_type": "code",
   "execution_count": null,
   "metadata": {
    "collapsed": true
   },
   "outputs": [],
   "source": [
    "sns.jointplot(data1, data2)"
   ]
  },
  {
   "cell_type": "markdown",
   "metadata": {},
   "source": [
    "## Самое время для самостоятельных заданий!"
   ]
  },
  {
   "cell_type": "markdown",
   "metadata": {},
   "source": [
    "### Task 1"
   ]
  },
  {
   "cell_type": "markdown",
   "metadata": {
    "collapsed": true
   },
   "source": [
    "У Вас есть данные с различными характеристиками стран в файле countries. Откройте его, отберите первые 10 стран и постройте столбчатую диаграмму, отображающую процент бедного населения в стране. Настройте, чтобы все столбцы для показателей выше 15% автоматически подкрашивались в красный цвет. Подпишите оси, придумайте содержательное название, выберите сами основной цвет графика."
   ]
  },
  {
   "cell_type": "markdown",
   "metadata": {},
   "source": [
    "### Task 2"
   ]
  },
  {
   "cell_type": "markdown",
   "metadata": {},
   "source": [
    "Откройте файл с данными по результатам экзаменов examscore. Постройте боксплоты для баллов по математике так, чтобы на одном графике было отображено 5 боксплотов (свой для каждой группы). Выберите цветовую палитру или покрасьте каждый боксплот в свой цвет по Вашему усмотрению.Подпишите оси, придумайте содержательное название."
   ]
  },
  {
   "cell_type": "markdown",
   "metadata": {},
   "source": [
    "### Task 3"
   ]
  },
  {
   "cell_type": "markdown",
   "metadata": {},
   "source": [
    "С помощью функции sns.jointplot отобразите диаграмму распределения баллов по чтению и баллов по письму и их взаимосвязи."
   ]
  },
  {
   "cell_type": "markdown",
   "metadata": {},
   "source": [
    "### Task 4"
   ]
  },
  {
   "cell_type": "markdown",
   "metadata": {
    "collapsed": true
   },
   "source": [
    "Загрузить стандартный датасет \"brain_networks\" из seaborn (с регионами головного мозга), посчитать между ними корреляцию и построить тепловую карту для матрицы корреляций"
   ]
  },
  {
   "cell_type": "markdown",
   "metadata": {},
   "source": [
    "### Task 5(BONUS)"
   ]
  },
  {
   "cell_type": "markdown",
   "metadata": {},
   "source": [
    "Подгрузите датасет 'tips' из seaborn, загрузите первые несколько строк, изучите информацию в нем и попробуйте построить такой же график (используется violinplot):"
   ]
  },
  {
   "cell_type": "markdown",
   "metadata": {},
   "source": [
    "![alt text](https://python-graph-gallery.com/wp-content/uploads/54_Grouped_violinplot_Seaborn.png \"Гифка1\")"
   ]
  },
  {
   "cell_type": "markdown",
   "metadata": {},
   "source": [
    "# Снижение размерности (факторный анализ)"
   ]
  },
  {
   "cell_type": "markdown",
   "metadata": {},
   "source": [
    "### PCA -метод главных компонент"
   ]
  },
  {
   "cell_type": "markdown",
   "metadata": {},
   "source": [
    "Зачем это нужно? Для уменьшения размерности данных."
   ]
  },
  {
   "cell_type": "markdown",
   "metadata": {},
   "source": [
    "Проанализируем вино:"
   ]
  },
  {
   "cell_type": "markdown",
   "metadata": {},
   "source": [
    "![alt text](https://media.giphy.com/media/nCykzvnlbY5uU/giphy.gif \"Гифка1\")"
   ]
  },
  {
   "cell_type": "markdown",
   "metadata": {},
   "source": [
    "Давайте откроем наши данные и посмотрим на первые строчки:"
   ]
  },
  {
   "cell_type": "code",
   "execution_count": null,
   "metadata": {
    "scrolled": true
   },
   "outputs": [],
   "source": [
    "WineData = pd.read_csv('wine.data.csv')\n",
    "WineData"
   ]
  },
  {
   "cell_type": "markdown",
   "metadata": {},
   "source": [
    "Посмотрим на то, как изменяются характеристики вина в зависимости от класса:"
   ]
  },
  {
   "cell_type": "code",
   "execution_count": null,
   "metadata": {},
   "outputs": [],
   "source": [
    "for c in WineData.columns[1:]:\n",
    "    WineData.boxplot(c,by='Class',figsize=(7,4),fontsize=14)\n",
    "    plt.title(\"{}\\n\".format(c),fontsize=16)\n",
    "    plt.xlabel(\"Класс вина\", fontsize=16)"
   ]
  },
  {
   "cell_type": "code",
   "execution_count": null,
   "metadata": {},
   "outputs": [],
   "source": [
    "plt.figure(figsize=(10,6))\n",
    "plt.scatter(WineData['OD280/OD315 of diluted wines'],WineData['Flavanoids'],c=WineData['Class'],edgecolors='k',alpha=0.75,s=150)\n",
    "plt.grid(True)\n",
    "plt.title(\"Точечная диаграмма, отображающая разделение сортов вин по классам\",fontsize=15)\n",
    "plt.xlabel(\"OD280/OD315 of diluted wines\",fontsize=15)\n",
    "plt.ylabel(\"Flavanoids\",fontsize=15)\n",
    "plt.show()"
   ]
  },
  {
   "cell_type": "markdown",
   "metadata": {},
   "source": [
    "Для начала нам необходимо стандартизировать наши данные:"
   ]
  },
  {
   "cell_type": "code",
   "execution_count": null,
   "metadata": {
    "collapsed": true
   },
   "outputs": [],
   "source": [
    "from sklearn.preprocessing import StandardScaler"
   ]
  },
  {
   "cell_type": "code",
   "execution_count": null,
   "metadata": {
    "collapsed": true
   },
   "outputs": [],
   "source": [
    "scaler = StandardScaler()"
   ]
  },
  {
   "cell_type": "code",
   "execution_count": null,
   "metadata": {
    "collapsed": true
   },
   "outputs": [],
   "source": [
    "X = WineData.drop('Class',axis=1)\n",
    "y = WineData['Class']"
   ]
  },
  {
   "cell_type": "code",
   "execution_count": null,
   "metadata": {
    "collapsed": true
   },
   "outputs": [],
   "source": [
    "X = scaler.fit_transform(X)"
   ]
  },
  {
   "cell_type": "code",
   "execution_count": null,
   "metadata": {
    "collapsed": true
   },
   "outputs": [],
   "source": [
    "dfx = pd.DataFrame(data=X,columns=WineData.columns[1:])"
   ]
  },
  {
   "cell_type": "code",
   "execution_count": null,
   "metadata": {},
   "outputs": [],
   "source": [
    "dfx.head(10)"
   ]
  },
  {
   "cell_type": "markdown",
   "metadata": {},
   "source": [
    "Теперь непосредственно подключим наш PCA"
   ]
  },
  {
   "cell_type": "code",
   "execution_count": null,
   "metadata": {
    "collapsed": true
   },
   "outputs": [],
   "source": [
    "from sklearn.decomposition import PCA"
   ]
  },
  {
   "cell_type": "markdown",
   "metadata": {},
   "source": [
    "n_components - с помощью данного аргумента мы можем задать количество компонент"
   ]
  },
  {
   "cell_type": "code",
   "execution_count": null,
   "metadata": {
    "collapsed": true
   },
   "outputs": [],
   "source": [
    "pca = PCA(n_components=None)"
   ]
  },
  {
   "cell_type": "code",
   "execution_count": null,
   "metadata": {
    "collapsed": true
   },
   "outputs": [],
   "source": [
    "dfx_pca = pca.fit(dfx)"
   ]
  },
  {
   "cell_type": "markdown",
   "metadata": {},
   "source": [
    "Самое время вспомнить о графике, по которому мы на лекции учились отбирать количество факторов/компонент!"
   ]
  },
  {
   "cell_type": "code",
   "execution_count": null,
   "metadata": {},
   "outputs": [],
   "source": [
    "plt.figure(figsize=(10,6))\n",
    "plt.scatter(x=[i+1 for i in range(len(dfx_pca.explained_variance_ratio_))], \n",
    "            y=dfx_pca.explained_variance_ratio_, #dfx_pca.explained_variance_ratio_ -объясненная дисперсия\n",
    "           s=200, alpha=0.75,c='orange',edgecolor='k')\n",
    "plt.grid(True)\n",
    "plt.title(\"Процент объясненной дисперсии\",fontsize=25)\n",
    "plt.xlabel(\"Компоненты\",fontsize=15)\n",
    "plt.xticks([i+1 for i in range(len(dfx_pca.explained_variance_ratio_))],fontsize=15)\n",
    "plt.yticks(fontsize=15)\n",
    "plt.ylabel(\"Объясненная дисперсия\",fontsize=15)\n",
    "plt.show()"
   ]
  },
  {
   "cell_type": "code",
   "execution_count": null,
   "metadata": {
    "collapsed": true
   },
   "outputs": [],
   "source": [
    "dfx_trans = pca.transform(dfx)"
   ]
  },
  {
   "cell_type": "code",
   "execution_count": null,
   "metadata": {},
   "outputs": [],
   "source": [
    "dfx_trans = pd.DataFrame(data=dfx_trans)\n",
    "dfx_trans.head(10)"
   ]
  },
  {
   "cell_type": "markdown",
   "metadata": {},
   "source": [
    "Посмотрим, как, опираясь на наши компоненты, мы можем разделить классы вин:"
   ]
  },
  {
   "cell_type": "code",
   "execution_count": null,
   "metadata": {},
   "outputs": [],
   "source": [
    "plt.figure(figsize=(10,6))\n",
    "plt.scatter(dfx_trans[0],dfx_trans[1],c=WineData['Class'],edgecolors='b',alpha=0.75,s=150)\n",
    "plt.grid(True)\n",
    "plt.title(\"Разделение на классы с помощью 2 компонентов\",fontsize=20)\n",
    "plt.xlabel(\"Principal component-1\",fontsize=15)\n",
    "plt.ylabel(\"Principal component-2\",fontsize=15)\n",
    "plt.show()"
   ]
  },
  {
   "cell_type": "markdown",
   "metadata": {},
   "source": [
    "Построим матрицу факторных нагрузок:"
   ]
  },
  {
   "cell_type": "code",
   "execution_count": null,
   "metadata": {
    "collapsed": true
   },
   "outputs": [],
   "source": [
    "loadings = pca.components_.T * np.sqrt(pca.explained_variance_)"
   ]
  },
  {
   "cell_type": "code",
   "execution_count": null,
   "metadata": {},
   "outputs": [],
   "source": [
    "pd.DataFrame(loadings.T, columns=WineData.columns[1:]) "
   ]
  },
  {
   "cell_type": "markdown",
   "metadata": {},
   "source": [
    "### Task"
   ]
  },
  {
   "cell_type": "markdown",
   "metadata": {},
   "source": [
    "Откройте файл test02.csv, реализуйте на нем факторный анализ. Постройте матрицу факторных нагрузок. Попробуйте содержательно объяснить смысл получившихся факторов."
   ]
  }
 ],
 "metadata": {
  "kernelspec": {
   "display_name": "Python 3",
   "language": "python",
   "name": "python3"
  },
  "language_info": {
   "codemirror_mode": {
    "name": "ipython",
    "version": 3
   },
   "file_extension": ".py",
   "mimetype": "text/x-python",
   "name": "python",
   "nbconvert_exporter": "python",
   "pygments_lexer": "ipython3",
   "version": "3.6.1"
  }
 },
 "nbformat": 4,
 "nbformat_minor": 2
}
