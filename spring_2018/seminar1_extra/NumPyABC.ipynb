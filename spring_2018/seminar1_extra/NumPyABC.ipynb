{
 "cells": [
  {
   "cell_type": "markdown",
   "metadata": {},
   "source": [
    "# Ликбез по Python Vol.2: я не придумал в этот раз кринжового каламбура из кино, но короче тут про NumPy; и про Matplotlib"
   ]
  },
  {
   "cell_type": "markdown",
   "metadata": {},
   "source": [
    "## Пролог\n",
    "\n",
    "Если вы вдруг читали первую часть, то там мы обсуждали базовые структуры языка Python. Также упомянули, что кроме базовых функций бывают ещё и <b>модули</b>, которые надо отдельно <b>импортировать</b>.\n",
    "\n",
    "Такой модуль мы тогда упомянули один &mdash; это <b>math</b>. В этот раз отдельно уделим внимание двум очень важным модулям, содержащим функции, необходимые для анализа данных. Это <b>NumPy</b> и <b>Matplotlib</b>.\n",
    "\n",
    "Начнём?"
   ]
  },
  {
   "cell_type": "markdown",
   "metadata": {},
   "source": [
    "## NumPy"
   ]
  },
  {
   "cell_type": "markdown",
   "metadata": {},
   "source": [
    "Несложно догадаться по названию, что делает этот модуль. В первую очередь, он содержит много полезных инструментов для работы с наборами <b>численных</b> данных. В нем очень удобно выполнять математические операции, а также операции с <b>контейнерами</b> благодаря собственному типу такового.\n",
    "\n",
    "<img src='https://media.giphy.com/media/26xBI73gWquCBBCDe/giphy.gif'>"
   ]
  },
  {
   "cell_type": "markdown",
   "metadata": {},
   "source": [
    "Ну что ж, раз это модуль, нужно его для начала подгрузить. Даже и не спрашиваете почему, но хорошим тоном считается импортировать его под именем <b>np</b> (помните, мы говорили про <b>as</b> в прошлый раз?)"
   ]
  },
  {
   "cell_type": "code",
   "execution_count": null,
   "metadata": {
    "collapsed": true
   },
   "outputs": [],
   "source": [
    "import numpy as np"
   ]
  },
  {
   "cell_type": "markdown",
   "metadata": {},
   "source": [
    "Операции с контейнерами я упомянул не зря. Во главе угла здесь стоит соственная структура данных &mdash; массив <b>np.array</b>. Чтобы его создать, нужно применить соответсвующую функцию к обычному <b>списку</b>"
   ]
  },
  {
   "cell_type": "code",
   "execution_count": null,
   "metadata": {
    "collapsed": true
   },
   "outputs": [],
   "source": [
    "a = np.array([1, 2, 3, 4, 5])\n",
    "b = np.array([0.1, 0.2, 0.3, 0.4, 0.5])\n",
    "\n",
    "print(\"a =\", a)\n",
    "print(\"b =\", b)"
   ]
  },
  {
   "cell_type": "markdown",
   "metadata": {},
   "source": [
    "Теперь самое простое, что можно придумать с этими массивами &mdash; <b>арифметические операции</b> (сложение и умножение на целое число)"
   ]
  },
  {
   "cell_type": "code",
   "execution_count": null,
   "metadata": {
    "collapsed": true
   },
   "outputs": [],
   "source": [
    "array1 = np.array([1, 2, 3])\n",
    "\n",
    "print('array1:', array1)\n",
    "print('array1 * 3:', array1 * 3)\n",
    "print('array1 + 1:', array1 + 1)"
   ]
  },
  {
   "cell_type": "markdown",
   "metadata": {},
   "source": [
    "Не выглядит знакомо? :)\n",
    "\n",
    "<img src='https://media.giphy.com/media/3o7WIQ4FARJdpmUni8/giphy.gif'>\n",
    "\n",
    "Да-да, такие же операции можно и делать и с обычным списком (list) с прошлого раза.\n",
    "\n",
    "<b>Но!</b>\n",
    "\n",
    "Сравните результаты с такими же операциями для списка"
   ]
  },
  {
   "cell_type": "code",
   "execution_count": null,
   "metadata": {
    "collapsed": true
   },
   "outputs": [],
   "source": [
    "list1 = [1, 2, 3]\n",
    "\n",
    "print(\"list1:\", list1)\n",
    "print('list1 * 3:', list1 * 3)\n",
    "print('list1 + [1]:', list1 + [1])"
   ]
  },
  {
   "cell_type": "markdown",
   "metadata": {},
   "source": [
    "Ничего интересного не находите?\n",
    "\n",
    "А теперь давайте попробуем сложить два <b>numpy-массива</b> вместе, а потом умножить один на другой."
   ]
  },
  {
   "cell_type": "code",
   "execution_count": null,
   "metadata": {
    "collapsed": true
   },
   "outputs": [],
   "source": [
    "print(\"a =\", a)\n",
    "print(\"b =\", b)\n",
    "print(\"a + b =\", a + b)\n",
    "print(\"a * b =\", a * b)"
   ]
  },
  {
   "cell_type": "markdown",
   "metadata": {},
   "source": [
    "Теперь видно, в чём особенность работы этого массива. В нём арифметические операции производятся <b>поэлементно</b>. Вы же осознаете, как это удобно &mdash; просто сложить два набора чисел попарно, между собой, без лишних усилий? Ну ещё до кучи можно, например вспомнить операции из \"режима калькулятора\""
   ]
  },
  {
   "cell_type": "code",
   "execution_count": null,
   "metadata": {
    "collapsed": true
   },
   "outputs": [],
   "source": [
    "# вот это разность\n",
    "print(\"a - b =\", a - b)\n",
    "\n",
    "# вот это деление\n",
    "print(\"a / b =\", a / b)\n",
    "\n",
    "# вот это целочисленное деление\n",
    "print(\"a // b =\", a // b)\n",
    "\n",
    "# вот это квадрат\n",
    "print(\"a ** 2 =\", a ** 2)"
   ]
  },
  {
   "cell_type": "markdown",
   "metadata": {},
   "source": [
    "Теперь от арифметических операций &mdash; к логическим\n",
    "\n",
    "<img src='https://media.giphy.com/media/2ysuPtDEKOCmbru3yV/giphy.gif'>\n",
    "\n",
    "Когда мы хотели проверять какие-то условия на массивах (вьетнамский flashback задача про гика), нам приходилось <b>проходить циклом for</b> по всем и применять <b>условный опреатор if</b>. Теперь можно просто указать условие, а <b>NumPy</b> всё сделает за вас. Возьмём массивы <i>a</i> и <i>b</i>. Допустим, хотим проверить элементы <i>a</i> на то, больше ли они 1, а элементы <i>b</i> на то, меньше ли они 0.5. Поехали"
   ]
  },
  {
   "cell_type": "code",
   "execution_count": null,
   "metadata": {
    "collapsed": true
   },
   "outputs": [],
   "source": [
    "print(\"a =\", a)\n",
    "print(\"a > 1: \", a > 1)\n",
    "print(\"\\nb =\", b)\n",
    "print(\"b < 0.5:  \", b < 0.5)"
   ]
  },
  {
   "cell_type": "markdown",
   "metadata": {},
   "source": [
    "Что мы получили? Когда применили условие, получили массив из <b>True</b> и <b>False</b>. Заметьте, их столько же, сколько и элементов в тех массивах. <b>True (правда)</b> &mdash; значит условие для соответствующего элемента выполнилось. <b>False (ложь)</b> &mdash; не выполнилось.\n",
    "\n",
    "Теперь, можно с помощью логических операций можно проверить выполнение условий для нескольких массивов одновременно."
   ]
  },
  {
   "cell_type": "code",
   "execution_count": null,
   "metadata": {
    "collapsed": true
   },
   "outputs": [],
   "source": [
    "print(\"Одновременная проверка условий:\")\n",
    "print(\"Вот это проверяет, что a > 1 И b < 0.5:  \", (a > 1) & (b < 0.5))\n",
    "print(\"А вот это проверяет, что a > 1 ИЛИ b < 0.5:  \", (a > 1) | (b < 0.5))"
   ]
  },
  {
   "cell_type": "markdown",
   "metadata": {},
   "source": [
    "В первом случаи мы взяли <b>логическое И (пересечение)</b> двух условий, во втором &mdash; <b>логическое ИЛИ (объединение)</b> двух условий. Пишутся они в питоне амперсандом <b>&</b> и вертикальной чертой <b>|</b> соответственно.\n",
    "\n",
    "Дальше &mdash; больше. А что если мы хотим не только проверить условие на элементах, а сразу получить эти элементы? Оказывается, и такое возможно. Дело в том, что <b>numpy.array</b> поддерживает индексацию (как и список), но при этом умеет индексироваться <b>ещё и по условию</b>.\n",
    "\n",
    "Это как? Ну вот смотрите"
   ]
  },
  {
   "cell_type": "code",
   "execution_count": null,
   "metadata": {
    "collapsed": true
   },
   "outputs": [],
   "source": [
    "print(\"a =\", a)\n",
    "print(\"a > 2:\", a > 2)\n",
    "print(\"a[a > 2]:\", a[a > 2])"
   ]
  },
  {
   "cell_type": "markdown",
   "metadata": {},
   "source": [
    "Хотим узнать, какие элементы массива a больше 2. Получаем массив с <b>False</b> И <b>True</b>, ничего нового. А если мы подадим условие \"a > 2\" как индекс (через квадратные скобки), то получим в итоге <b>numpy-массив</b>, где будут только те элементы, для которых условие дало <b>True</b>. Удобно, не правда ли?\n",
    "\n",
    "Ну и наконец, самое ценное, что <b>NumPy</b> умеет &mdash; куча математических операций, прямо как в <b>math</b>, только круче.\n",
    "\n",
    "- <b>np.mean</b>: среднее по массиву\n",
    "- <b>np.min</b>: минимальный элемент по массиву\n",
    "- <b>np.argmin</b>: <b>индекс</b> минимального элемента по массиву\n",
    "- <b>np.unique</b>: вывести все уникальные элементы массива"
   ]
  },
  {
   "cell_type": "code",
   "execution_count": null,
   "metadata": {
    "collapsed": true
   },
   "outputs": [],
   "source": [
    "print(\"a =\", a)\n",
    "\n",
    "print(\"np.mean(a) =\", np.mean(a))\n",
    "\n",
    "print(\"np.min(a) =\", np.min(a))\n",
    "\n",
    "print(\"np.argmin(a) =\", np.argmin(a))\n",
    "\n",
    "print(\"np.unique(['male', 'male', 'female', 'female', 'male']) =\", np.unique(['male', 'male', 'female', 'female', 'male']))"
   ]
  },
  {
   "cell_type": "markdown",
   "metadata": {},
   "source": [
    "Ну а остальное нагуглите.\n",
    "\n",
    "<img src ='https://i.ytimg.com/vi/HSKgyWCfoTQ/hqdefault.jpg'>\n",
    "\n",
    "На самом деле, вот\n",
    "\n",
    "- <b>np.max</b>: максимальный элемент по массиву\n",
    "- <b>np.argmax</b>: <b>индекс</b> максимального элемента по массиву\n",
    "- <b>np.sum</b>: сумма элементов массива\n",
    "- <b>np.prod</b>: поэлементное произведение элементов массива\n",
    "- <b>np.sin</b>, <b>np.cos</b>, <b>np.tan</b>: поэлементный синус, косинус, тангенс\n",
    "- <b>np.exp</b>: поэлементная экспонента\n",
    "- <b>np.log</b>: поэлементный натуральный логарифм\n",
    "- <b>np.sqrt</b>: поэлементный квадратный корень\n",
    "\n",
    "\n",
    "В следующие разы мы узнаем про <b>многомерные массивы</b>: для них будет очень много полезных статистических методов, поговорим об этом потом"
   ]
  },
  {
   "cell_type": "code",
   "execution_count": null,
   "metadata": {
    "collapsed": true
   },
   "outputs": [],
   "source": [
    "print(\"np.max(a) =\", np.max(a))\n",
    "\n",
    "print(\"np.argmax(a) =\", np.argmax(a))\n",
    "\n",
    "print(\"np.sum(a) =\", np.sum(a))\n",
    "\n",
    "print(\"np.prod(a) =\", np.prod(a))\n",
    "\n",
    "print(\"np.sin(a) =\", np.sin(a))\n",
    "\n",
    "print(\"np.exp(a) =\", np.exp(a))\n",
    "\n",
    "print(\"np.log(a) =\", np.log(a))\n",
    "\n",
    "print(\"np.sqrt(a) =\", np.sqrt(a))"
   ]
  },
  {
   "cell_type": "markdown",
   "metadata": {},
   "source": [
    "## Matplotlib"
   ]
  },
  {
   "cell_type": "markdown",
   "metadata": {},
   "source": [
    "Итак, с помощью NumPy мы поняли, как можно с помощью NumPy очень удобно обрабатывать и изменять данные. Теперь было бы очень прикольно иметь визуальное представление, с чем мы имеем дело. Можно нарисовать кучу графичков!\n",
    "\n",
    "<img src='https://media.giphy.com/media/dUNoNFUOYV8Yw/giphy.gif'>\n",
    "\n",
    "Тут нам поможет модуль <b>matplotlib</b>, а если конкретнее &mdash; его подраздел <b>pyplot</b>. Как и с нампаем, его почему-то принято называть <b>plt</b>."
   ]
  },
  {
   "cell_type": "code",
   "execution_count": null,
   "metadata": {
    "collapsed": true
   },
   "outputs": [],
   "source": [
    "import matplotlib.pyplot as plt"
   ]
  },
  {
   "cell_type": "markdown",
   "metadata": {},
   "source": [
    "Еще можно использовать немного магии Jupyter Notebook и сделать вот так, чтобы графики рисовались красиво прямо в ячейке."
   ]
  },
  {
   "cell_type": "code",
   "execution_count": null,
   "metadata": {
    "collapsed": true
   },
   "outputs": [],
   "source": [
    "%matplotlib inline"
   ]
  },
  {
   "cell_type": "markdown",
   "metadata": {},
   "source": [
    "Теперь о том, как рисовать графики: очень просто! Работает так: у нас есть 2 оси. Передаём в функцию <b>plt.plot()</b> как первый параметр координаты по первой оси, как второй координаты второй оси. Будьте внимательны: число координат первой оси должно совпадать с числом координат второй оси!\n",
    "\n",
    "Чтобы отобразить, применяем функцию <b>plt.show()</b>.\n",
    "\n",
    "Простейший пример: хотим нарисовать прямую, проходящую через точки: (0,0), (1,1), (2,4), (3,9), (4,16), (5,25).\n",
    "\n",
    "Тогда нужно для начала составить массив из первых кооординат: [0,1,2,3,4,5].\n",
    "\n",
    "Потом массив из вторых координат: [0,1,4,9,16,25].\n",
    "\n",
    "И передаем функции <b>plot()</b> на прорисовку."
   ]
  },
  {
   "cell_type": "code",
   "execution_count": null,
   "metadata": {
    "collapsed": true
   },
   "outputs": [],
   "source": [
    "plt.plot([0, 1, 2, 3, 4, 5], [0, 1, 4, 9, 16, 25])\n",
    "plt.show()"
   ]
  },
  {
   "cell_type": "markdown",
   "metadata": {},
   "source": [
    "Если мы хотим нарисовать не прямую, проходящую через точки, а сами эти точки, то нам поможет функция <b>scatter()</b>. Работает она так же, сначала передаёте первую координату, потом вторую координату."
   ]
  },
  {
   "cell_type": "code",
   "execution_count": null,
   "metadata": {
    "collapsed": true
   },
   "outputs": [],
   "source": [
    "plt.scatter([0, 1, 2, 3, 4, 5], [0, 1, 4, 9, 16, 25])\n",
    "plt.show()"
   ]
  },
  {
   "cell_type": "markdown",
   "metadata": {},
   "source": [
    "А можно нарисовать сразу несколько линий на одном графике: просто примените <b>plot()</b> несколько раз, а потом воспользуйтесь <b>show()</b>"
   ]
  },
  {
   "cell_type": "code",
   "execution_count": null,
   "metadata": {
    "collapsed": true
   },
   "outputs": [],
   "source": [
    "plt.plot([0, 1, 2, 3, 4, 5], [0, 1, 4, 9, 16, 25])\n",
    "plt.plot([0, 1, 2, 3, 4, 5], [0, 1, 2, 3, 4, 5])\n",
    "plt.show()"
   ]
  },
  {
   "cell_type": "markdown",
   "metadata": {},
   "source": [
    "Линиям и точкам можно придавать желаемый цвет. Для этого нужно в plot/scatter передать дополнительный параметр <b>c</b>, присвоив ему цвет. Вот так:"
   ]
  },
  {
   "cell_type": "code",
   "execution_count": null,
   "metadata": {
    "collapsed": true
   },
   "outputs": [],
   "source": [
    "plt.plot([0, 1, 2, 3, 4, 5], [0, 1, 4, 9, 16, 25], c='red')\n",
    "plt.plot([0, 1, 2, 3, 4, 5], [0, 1, 2, 3, 4, 5], c='green')\n",
    "plt.show()"
   ]
  },
  {
   "cell_type": "markdown",
   "metadata": {},
   "source": [
    "Можно с помощью точек получить приближенный вид какой-то функции на графике. Допустим, я хочу нарисовать график квадратного корня. Создаю точки первой оси от 0 до 10, а дальше могу применить извлечение квадратного корня поэлементно с помощью <b>math.sqrt()</b>. Чувствуйте, как удобно! И запомню это в новую переменную. Дальше останется дело за техникой."
   ]
  },
  {
   "cell_type": "code",
   "execution_count": null,
   "metadata": {
    "collapsed": true
   },
   "outputs": [],
   "source": [
    "x = np.array([0, 1, 2, 3, 4, 5, 6, 7, 8, 9, 10])\n",
    "y = np.sqrt(x)\n",
    "\n",
    "plt.plot(x, y)\n",
    "plt.show()"
   ]
  },
  {
   "cell_type": "markdown",
   "metadata": {},
   "source": [
    "Еще для того, чтобы ваш график выглядел красиво и опрятно, полезно знать следующее:\n",
    "\n",
    "- <b>plt.title()</b> - название графика\n",
    "- <b>plt.xlabel()</b> - подпись на оси x\n",
    "- <b>plt.ylabel()</b> - подпись на оси y\n",
    "- <b>plt.grid()</b> - \"сетка\"\n",
    "- параметр <b>label</b> функции plot/scatter - подпись для прямой/набора точек\n",
    "- <b>plt.legend()</b> - \"легенда\" (отображает подписи для объектов)\n",
    "\n",
    "Смотрите:"
   ]
  },
  {
   "cell_type": "code",
   "execution_count": null,
   "metadata": {
    "collapsed": true
   },
   "outputs": [],
   "source": [
    "plt.plot(x, y, c='green', label='sqrt(x)')\n",
    "plt.xlabel('x')\n",
    "plt.ylabel('y')\n",
    "plt.grid()\n",
    "plt.legend()\n",
    "plt.title('График квадратного корня от x')\n",
    "plt.show()"
   ]
  },
  {
   "cell_type": "markdown",
   "metadata": {},
   "source": [
    "Совсем другое дело!\n",
    "\n",
    "Дальше мы узнаем еще много крутого про matplotlib, например, как строить гистограммы."
   ]
  },
  {
   "cell_type": "markdown",
   "metadata": {},
   "source": [
    "## Эпилог\n",
    "\n",
    "Итак, мы ознакомились с самыми базовыми вещами из NumPy и Matplotlib.\n",
    "\n",
    "Как всегда, не стесняйтесь задавать вопросы: @adhaesitadimo.\n",
    "\n",
    "Спасибо большое студентам группы 163 за вопросы, советы и пожелания.\n",
    "\n",
    "Увидимся в телеграме и на занятиях!\n",
    "\n",
    "<img src='https://media.giphy.com/media/DAtJCG1t3im1G/giphy.gif'>"
   ]
  }
 ],
 "metadata": {
  "kernelspec": {
   "display_name": "Python 3",
   "language": "python",
   "name": "python3"
  },
  "language_info": {
   "codemirror_mode": {
    "name": "ipython",
    "version": 3
   },
   "file_extension": ".py",
   "mimetype": "text/x-python",
   "name": "python",
   "nbconvert_exporter": "python",
   "pygments_lexer": "ipython3",
   "version": "3.6.1"
  }
 },
 "nbformat": 4,
 "nbformat_minor": 2
}
