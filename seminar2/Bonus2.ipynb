{
 "cells": [
  {
   "cell_type": "markdown",
   "metadata": {},
   "source": [
    "# Бонусное задание 2: регрессия и корреляция"
   ]
  },
  {
   "cell_type": "markdown",
   "metadata": {},
   "source": [
    "У вас на руках выгрузка данных из Базы World Bank Open Data. \n",
    "\n",
    "Мы скачали данные, которые в нашем представлении могли бы объяснить потенциальную длительность жизни в различных странах:\n",
    "http://databank.worldbank.org/data/reports.aspx?source=world-development-indicators#\n",
    "\n",
    "В данных вы найдете параметр Life expectancy  и ряд других показателей.  \n",
    "\n",
    "Ваша задача: выяснить, какие из предложенных факторов оказывают значимое влияние на длительность жизни и могут служить хорошим предиктором для моделей предсказания длительности жизни. "
   ]
  },
  {
   "cell_type": "markdown",
   "metadata": {},
   "source": [
    "### Задание 1(1 балл)\n",
    "Откройте данные и удалите строки, где есть пропущенные значения (dropna). Постройте гистограмму по переменной Life expectancy."
   ]
  },
  {
   "cell_type": "code",
   "execution_count": null,
   "metadata": {
    "collapsed": true
   },
   "outputs": [],
   "source": [
    "# YOUR CODE"
   ]
  },
  {
   "cell_type": "markdown",
   "metadata": {},
   "source": [
    "### Задание 2(1 балл) \n",
    "Отберите факторы,которые могут оказывать влияние на life expectancy. Подсказка: для этого нужно вспомнить с лекции, зачем строить матрицу корреляций (подсказка: dataset.corr()) для предикторов. И как их отбирать.\n",
    "Опишите, почему и как Вы выбрали именно такие факторы."
   ]
  },
  {
   "cell_type": "code",
   "execution_count": 1,
   "metadata": {
    "collapsed": true
   },
   "outputs": [],
   "source": [
    "# YOUR CODE"
   ]
  },
  {
   "cell_type": "markdown",
   "metadata": {},
   "source": [
    "### Задание 3(1 балл) "
   ]
  },
  {
   "cell_type": "markdown",
   "metadata": {},
   "source": [
    "Постройте регрессионную модель. Проинтерпретируйте полученные данные."
   ]
  },
  {
   "cell_type": "code",
   "execution_count": null,
   "metadata": {
    "collapsed": true
   },
   "outputs": [],
   "source": [
    "# YOUR CODE"
   ]
  }
 ],
 "metadata": {
  "kernelspec": {
   "display_name": "Python 3",
   "language": "python",
   "name": "python3"
  },
  "language_info": {
   "codemirror_mode": {
    "name": "ipython",
    "version": 3
   },
   "file_extension": ".py",
   "mimetype": "text/x-python",
   "name": "python",
   "nbconvert_exporter": "python",
   "pygments_lexer": "ipython3",
   "version": "3.6.1"
  }
 },
 "nbformat": 4,
 "nbformat_minor": 2
}
