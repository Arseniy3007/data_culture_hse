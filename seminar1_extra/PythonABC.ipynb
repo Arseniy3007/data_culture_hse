{
 "cells": [
  {
   "cell_type": "markdown",
   "metadata": {
    "collapsed": true
   },
   "source": [
    "# Ликбез по Python, или как я перестал бояться и полюбил Семинар 1\n",
    "\n",
    "## Пролог\n",
    "\n",
    "Привет, вы открыли <b>Jupyter Notebook</b>, такой же, как и на первом семинаре. В нем можно в интерактивном виде писать и исполнять куски кода с помощью кнопки <b>Run</b> или <b>Shift-Enter</b>. Попробуйте!"
   ]
  },
  {
   "cell_type": "code",
   "execution_count": null,
   "metadata": {
    "collapsed": true
   },
   "outputs": [],
   "source": [
    "# здесь происходит некоторая магия, о которой мы побеспокоимся чуть позже\n",
    "print('Hello World!')"
   ]
  },
  {
   "cell_type": "markdown",
   "metadata": {},
   "source": [
    "Как видите, слева от кода в квадратных скобках после <b>In</b> появилась число <i>1</i>. Это значит, что кусок кода (ячейка) сверху успешно исполнился &mdash; была выведена надпись <b>Hello World!</b>. Возможны также ещё следующие ситуации:\n",
    "\n",
    "- в квадратных скобках появляется звёздочка (<b>*</b>). Это значит, что код выполняется и надо чуть-чуть подождать.\n",
    "\n",
    "- в квадратных скобках ничего не появилось, но зато сразу после кода появилось много странного текста. В таком случае, код не может быть выполнен, а снизу вы получили <b>сообщение об ошибке</b>. Если вы не можете понять суть ошибки, не стесняйтесь уточнить у семинариста/ассистента\n",
    "\n",
    "В дальнейшем, вы также научитесь создавать свои куски кода. Поле, где пишется код, называется <b>ячейкой</b>. Создать её можно, нажав сверху кнопку <b>+</b>.\n",
    "\n",
    "В дальнейшем, когда вы увидите такую ячейку здесь, убедительно просим вас исполнить её и посмотреть, что в итоге получилось.\n",
    "\n",
    "Теперь мы разобрались в основных принципах того, как здесь работать, и готовы приступить к изучению основ Python."
   ]
  },
  {
   "cell_type": "markdown",
   "metadata": {},
   "source": [
    "## I. Python как очень странный калькулятор\n",
    "<img src='https://kulturologia.ru/files/u20225/cat_student.jpg'>"
   ]
  },
  {
   "cell_type": "markdown",
   "metadata": {},
   "source": [
    "Итак, самое простое, что можно выполнить с помощью Python &mdash; это арифметические операции: посмотрим, как работают <b>сложение</b>, <b>вычитание</b> и <b>умножение</b>. После того, как вы исполните соответствующие ячейки, снизу будет написан ответ."
   ]
  },
  {
   "cell_type": "code",
   "execution_count": null,
   "metadata": {
    "collapsed": true
   },
   "outputs": [],
   "source": [
    "2 + 2"
   ]
  },
  {
   "cell_type": "code",
   "execution_count": null,
   "metadata": {
    "collapsed": true
   },
   "outputs": [],
   "source": [
    "3 - 2"
   ]
  },
  {
   "cell_type": "code",
   "execution_count": null,
   "metadata": {
    "collapsed": true
   },
   "outputs": [],
   "source": [
    "2 * 3"
   ]
  },
  {
   "cell_type": "markdown",
   "metadata": {},
   "source": [
    "Если написать знак умножения (звёздочку) дважды, то вы получите <b>возведение в степень</b>. Например, мы хотим посчитать квадрат (вторую степень) числа 3."
   ]
  },
  {
   "cell_type": "code",
   "execution_count": null,
   "metadata": {
    "collapsed": true
   },
   "outputs": [],
   "source": [
    "3 ** 2"
   ]
  },
  {
   "cell_type": "markdown",
   "metadata": {},
   "source": [
    "Точно так же можно <b>возвести в дробную степень</b> (это ровно то же самое, что и взять корень определенной степени). Например, если вы хотите взять квадратный корень из числа, то можно просто возвести его в степень 1/2."
   ]
  },
  {
   "cell_type": "code",
   "execution_count": null,
   "metadata": {
    "collapsed": true
   },
   "outputs": [],
   "source": [
    "9 ** (1 / 2)"
   ]
  },
  {
   "cell_type": "markdown",
   "metadata": {},
   "source": [
    "Обратите внимание, что в результате вы получили нецелое число со знаком после запятой. Чуть ниже мы узнаем, что это значит."
   ]
  },
  {
   "cell_type": "markdown",
   "metadata": {},
   "source": [
    "Теперь изучим операцию деления. Самый простой способ поделить одно число на другое &mdash; с помощью <b>'/'</b>"
   ]
  },
  {
   "cell_type": "code",
   "execution_count": null,
   "metadata": {
    "collapsed": true
   },
   "outputs": [],
   "source": [
    "4 / 2"
   ]
  },
  {
   "cell_type": "code",
   "execution_count": null,
   "metadata": {
    "collapsed": true
   },
   "outputs": [],
   "source": [
    "5 / 2"
   ]
  },
  {
   "cell_type": "markdown",
   "metadata": {},
   "source": [
    "Здесь нам стоит познакомиться с <b>типами данных</b>. Python, как говорилось на семинаре &mdash; <b>объектно-ориентированный</b> язык программирования; это значит, что он строится вокруг использования <b>объектов</b>. Объекты могут храниться в <b>переменных</b> (об этом - в следующих разделах), а могут использоваться один раз сами по себе &mdash; как мы делали в прошлых клетках.\n",
    "\n",
    "Числа в Python могут иметь разные типы. Нам понадобится знать о следующих:\n",
    "\n",
    "- <b>int</b>: целые числа, например, <b>3</b>\n",
    "- <b>float</b>: десятичные дроби (если бувально переводить, \"числа с плавающей точкой\"), например, <b>2.5</b>  "
   ]
  },
  {
   "cell_type": "markdown",
   "metadata": {},
   "source": [
    "Как вы могли заметить, операции деления и возведения в дробную степень всегда даст дробный результат. Остальные операции дадут целый результат при условии, что оба числа целые.\n",
    "\n",
    "Но число можно поделить и нацело, \"с остатком\", с помощью операции <b>'/</b><b>/'</b>"
   ]
  },
  {
   "cell_type": "code",
   "execution_count": null,
   "metadata": {
    "collapsed": true
   },
   "outputs": [],
   "source": [
    "5 // 2"
   ]
  },
  {
   "cell_type": "markdown",
   "metadata": {},
   "source": [
    "А чтобы получить остаток от деления, используют процент <b>'%'</b>"
   ]
  },
  {
   "cell_type": "code",
   "execution_count": null,
   "metadata": {
    "collapsed": true
   },
   "outputs": [],
   "source": [
    "5 % 2"
   ]
  },
  {
   "cell_type": "markdown",
   "metadata": {},
   "source": [
    "## II. Python как очень продвинутый калькулятор (модуль math)\n",
    "\n",
    "<img src='https://media.giphy.com/media/BmmfETghGOPrW/giphy.gif'>"
   ]
  },
  {
   "cell_type": "markdown",
   "metadata": {},
   "source": [
    "Python &mdash; невероятно многогранный язык в плане функциональности. Однако если бы мы всегда имели доступ сразу ко всем его возможностям, нам бы потребовалось очень много памяти внутри программы. Для этого дополнительные функции вынесены в <b>модули</b>, которые составляются из <b>функций</b> определенного предназначения.\n",
    "\n",
    "<b>Функция</b> &mdash; это некоторый набор кода, который принимает какие-то объекты на вход и выдаёт нужные объекты обратно на выход. Можно сравнить это с некоторым \"чёрным ящиком\"\n",
    "\n",
    "<img src='https://upload.wikimedia.org/wikipedia/commons/9/92/CPT_Hardware-InputOutput.svg'>\n",
    "\n",
    "Скоро мы научимся писать сови собственные функции, а пока поговорим, как использовать уже готовые из готовых модулей.\n",
    "\n",
    "Чтобы импортировать (\"подгрузить\") модуль, перед его применением в ячейке нужно написать <i>import <имя вашего модуля></i>"
   ]
  },
  {
   "cell_type": "code",
   "execution_count": null,
   "metadata": {
    "collapsed": true
   },
   "outputs": [],
   "source": [
    "import math"
   ]
  },
  {
   "cell_type": "markdown",
   "metadata": {},
   "source": [
    "Возможно, вы хотите использовать лишь одну функцию, тогда можно импортировать не весь модуль, а лишь то, что вам нужно. Допустим, мы хотим использовать функцию <i>sqrt</i> (извлечение квадратного корня) из модуля <i>math</i>. Тогда можно сделать так: <i>from <имя вашего модуля> import <имя вашей функции></i>"
   ]
  },
  {
   "cell_type": "code",
   "execution_count": null,
   "metadata": {
    "collapsed": true
   },
   "outputs": [],
   "source": [
    "from math import sqrt"
   ]
  },
  {
   "cell_type": "markdown",
   "metadata": {},
   "source": [
    "Ну и наконец, если вам не нравится писать многа букав, можно модифицировать название, под которым вы импортировали, с помощью <i>as</i>:"
   ]
  },
  {
   "cell_type": "code",
   "execution_count": null,
   "metadata": {
    "collapsed": true
   },
   "outputs": [],
   "source": [
    "from math import sqrt as sq"
   ]
  },
  {
   "cell_type": "markdown",
   "metadata": {},
   "source": [
    "Если вы импортировали функцию с помощью <i>from</i>, то можно просто прописать её имя, когда хотите её использовать. Параметры в функцию передаются внутри кргулых скобок. Если параметров несколько, указываем через запятую.\n",
    "\n",
    "Функция <b>math</b>, к примеру, принимает одно число &mdash; то, из которого вы хотите извлечь квадратный корень. Возвращает на выход она, собственно, сам корень"
   ]
  },
  {
   "cell_type": "code",
   "execution_count": null,
   "metadata": {
    "collapsed": true
   },
   "outputs": [],
   "source": [
    "sq(9)"
   ]
  },
  {
   "cell_type": "markdown",
   "metadata": {},
   "source": [
    "Если вы импортируете модуль целиком, функцией пользуемся так: <i><имя вашего модуля>.<имя вашей функции></i>"
   ]
  },
  {
   "cell_type": "code",
   "execution_count": null,
   "metadata": {
    "collapsed": true
   },
   "outputs": [],
   "source": [
    "math.sqrt(9)"
   ]
  },
  {
   "cell_type": "markdown",
   "metadata": {},
   "source": [
    "Заметили, что sqrt аналогичен возведению в степень 1/2?"
   ]
  },
  {
   "cell_type": "markdown",
   "metadata": {},
   "source": [
    "Вот еще ряд функций из модуля math, которые нам могут пригодится:\n",
    "\n",
    "- <b>math.exp(x)</b>: экспонента числа x\n",
    "- <b>math.log(x, base)</b>: логарифм x по основанию base; если не указать base, получим натуральный логарифм (ln)\n",
    "- <b>math.sin(x)</b>: синус x\n",
    "- <b>math.cos(x)</b>: косинус x\n",
    "- <b>math.tan(x)</b>: тангенс x\n",
    "- <b>math.hypot(x, y)</b>: евклидова норма (sqrt(x \\* x + y * y))\n",
    "- <b>math.pi</b>: число Пи (3.141592...)\n",
    "- <b>math.e</b>: число e (2.718281...)"
   ]
  },
  {
   "cell_type": "code",
   "execution_count": null,
   "metadata": {
    "collapsed": true
   },
   "outputs": [],
   "source": [
    "math.exp(2)"
   ]
  },
  {
   "cell_type": "code",
   "execution_count": null,
   "metadata": {
    "collapsed": true
   },
   "outputs": [],
   "source": [
    "math.log(9, 3)"
   ]
  },
  {
   "cell_type": "code",
   "execution_count": null,
   "metadata": {
    "collapsed": true
   },
   "outputs": [],
   "source": [
    "math.log(6)"
   ]
  },
  {
   "cell_type": "code",
   "execution_count": null,
   "metadata": {
    "collapsed": true
   },
   "outputs": [],
   "source": [
    "math.sin(math.pi / 3)"
   ]
  },
  {
   "cell_type": "code",
   "execution_count": null,
   "metadata": {
    "collapsed": true
   },
   "outputs": [],
   "source": [
    "math.cos(math.pi / 3)"
   ]
  },
  {
   "cell_type": "code",
   "execution_count": null,
   "metadata": {
    "collapsed": true
   },
   "outputs": [],
   "source": [
    "math.tan(math.pi / 3)"
   ]
  },
  {
   "cell_type": "code",
   "execution_count": null,
   "metadata": {
    "collapsed": true
   },
   "outputs": [],
   "source": [
    "math.hypot(5, 2)"
   ]
  },
  {
   "cell_type": "markdown",
   "metadata": {},
   "source": [
    "Можно комбинировать полученные знания в более сложные выражения, например, вот так вычислялся пример с семинара\n",
    "\n",
    "$\\sqrt{0.03 + log(6) \\div 3 \\cdot 5 - \\cos(\\frac{\\pi}{3})}$"
   ]
  },
  {
   "cell_type": "code",
   "execution_count": null,
   "metadata": {
    "collapsed": true
   },
   "outputs": [],
   "source": [
    "math.sqrt(0.03 + math.log(6) / 3 * 5 - math.cos(math.pi / 3))"
   ]
  },
  {
   "cell_type": "markdown",
   "metadata": {},
   "source": [
    "## III. Типы данных и переменные и что про них нужно знать. Строки"
   ]
  },
  {
   "cell_type": "markdown",
   "metadata": {},
   "source": [
    "Когда мы говорили о челых и дробных числах, мы затронули концепт <b>типов данных</b>. Давайте теперь поговорим поподробнее о тех типах, которые также нужно знать.\n",
    "\n",
    "Первый &mdash; это <b>строки</b> (str). Строка &mdash; набор некоторых символов. Опознать её среди кода очень легко: она всегда заключается в одинарные (<b>' '</b>) и двойные (<b>\" \"</b>) кавычки, особой разницы нет."
   ]
  },
  {
   "cell_type": "code",
   "execution_count": null,
   "metadata": {
    "collapsed": true
   },
   "outputs": [],
   "source": [
    "'Hello, World! '"
   ]
  },
  {
   "cell_type": "code",
   "execution_count": null,
   "metadata": {
    "collapsed": true
   },
   "outputs": [],
   "source": [
    "\"Goodbye, World! \""
   ]
  },
  {
   "cell_type": "markdown",
   "metadata": {},
   "source": [
    "Для вывода данных (в частности, строк) пользуются обычно функцией <b>print()</b>; она встроенная, поэтому импортировать никакого модуля не надо. Она известна своей \"всеядностью\" &mdash; с помощью неё можно вывести, в принципе, всё что угодно: хоть число, хоть строку, хоть что хочешь. Давайте попробуем \"напечатать\" строку <b>'Hello, World!'</b>."
   ]
  },
  {
   "cell_type": "code",
   "execution_count": null,
   "metadata": {
    "collapsed": true
   },
   "outputs": [],
   "source": [
    "print('Hello, World!')"
   ]
  },
  {
   "cell_type": "markdown",
   "metadata": {},
   "source": [
    "А можно и число напечатать, чё нет"
   ]
  },
  {
   "cell_type": "code",
   "execution_count": null,
   "metadata": {
    "collapsed": true
   },
   "outputs": [],
   "source": [
    "print(9)"
   ]
  },
  {
   "cell_type": "markdown",
   "metadata": {},
   "source": [
    "Обратите внимание: чтобы напечатать несколько объектов разного типа в одной строке, нужно <b>привести</b> их к одному типу (лучше к строчному). Например, целые числа \"приводимы\" к строке с помощью <b>str()</b>."
   ]
  },
  {
   "cell_type": "code",
   "execution_count": null,
   "metadata": {
    "collapsed": true
   },
   "outputs": [],
   "source": [
    "print('2 + 2 is', str(4))"
   ]
  },
  {
   "cell_type": "markdown",
   "metadata": {},
   "source": [
    "Со строками можно проводить некие подобия арифметических операций: сложение и умножение. Давайте пронаблюдаем, что произойдет."
   ]
  },
  {
   "cell_type": "code",
   "execution_count": null,
   "metadata": {
    "collapsed": true
   },
   "outputs": [],
   "source": [
    "print('Hello, ' + 'World!')"
   ]
  },
  {
   "cell_type": "code",
   "execution_count": null,
   "metadata": {
    "collapsed": true
   },
   "outputs": [],
   "source": [
    "print('Monty Python\\'s Flying Circus ' * 2)"
   ]
  },
  {
   "cell_type": "markdown",
   "metadata": {},
   "source": [
    "Полезный лайфхак: можно приводить все символы строки к строчным или прописным с помощью функций <b>.upper()</b> и <b>.lower()</b>"
   ]
  },
  {
   "cell_type": "code",
   "execution_count": null,
   "metadata": {
    "collapsed": true
   },
   "outputs": [],
   "source": [
    "print('Monty Python\\'s Flying Circus '.upper())\n",
    "print('Monty Python\\'s Flying Circus '.lower())"
   ]
  },
  {
   "cell_type": "markdown",
   "metadata": {},
   "source": [
    "Раз уж дошли до функции <b>print</b>, разрушим один из мощных страхов первого семинара\n",
    "\n",
    "<img src='https://media.giphy.com/media/ecdfptYe6UiCA/giphy.gif'>"
   ]
  },
  {
   "cell_type": "markdown",
   "metadata": {},
   "source": [
    "You got what I mean? :) Помнится, на семинаре мы хотели вывести пингвинов из хохолка, глазок, клювика, пузика и лапок. "
   ]
  },
  {
   "cell_type": "code",
   "execution_count": null,
   "metadata": {
    "collapsed": true
   },
   "outputs": [],
   "source": [
    "hoholok = \"   _~_    \"\n",
    "glazki  = \"  (o o)   \"\n",
    "kluvik  = \" /  V  \\\\  \"\n",
    "puziko  = \"/(  _  )\\\\ \"\n",
    "lapki   = \"  ^^ ^^   \""
   ]
  },
  {
   "cell_type": "markdown",
   "metadata": {},
   "source": [
    "Теперь без паники. Каждая часть тела пингвинчика представляет из себя <b>строку</b>, судя по кавычкам (к этому мы уже были готовы), но при этом эти строки равняются каким-то обозначениям, которые мы для них придумали. Знакомьтесь, это <b>переменные</b>.\n",
    "\n",
    "Как лучше понять, что есть переменная? Помните, в самом начале я говорил, что Питон работает по большей части с объектами. Так вот, если мы хотим использовать какие-то объекты больше одного раза, то можно выделить место и \"запомнить\" их, <b>присвоив</b> им какое-то имя. Отсюда те операции, которые мы сделали клеткой выше, называются <b>присваиванием</b>. В питоне присваивание происходит через знак <b>'='</b>.\n",
    "\n",
    "Заметьте, что можно \"присваивать\" не только объекты, но и другие переменные, например:"
   ]
  },
  {
   "cell_type": "code",
   "execution_count": null,
   "metadata": {
    "collapsed": true
   },
   "outputs": [],
   "source": [
    "makushka = hoholok\n",
    "makushka"
   ]
  },
  {
   "cell_type": "markdown",
   "metadata": {},
   "source": [
    "Это значит, что в переменных <b>'makushka'</b> и <b>'hoholok'</b> будет теперь содержаться одно и то же. Так удобно делать, к примеру, если значение переменной будет меняться в процессе программы, но мы хотим сохранить изначальное."
   ]
  },
  {
   "cell_type": "markdown",
   "metadata": {},
   "source": [
    "Ну что ж, про функцию <i>print</i> и её непривередливость мы уже знаем, про переменные знаем, теперь можно попробовать напечатать пингвина."
   ]
  },
  {
   "cell_type": "code",
   "execution_count": null,
   "metadata": {
    "collapsed": true
   },
   "outputs": [],
   "source": [
    "print(hoholok)\n",
    "print(glazki)\n",
    "print(kluvik)\n",
    "print(puziko)\n",
    "print(lapki)"
   ]
  },
  {
   "cell_type": "markdown",
   "metadata": {},
   "source": [
    "Заметьте: каждый раз функция <b>print()</b> будет выполняться на новой строке. Теперь, как напечатать много (или не очень, допустим, 3) пингвина?\n",
    "\n",
    "Мы говорили про арифметические операции со строками, в частности, то, что можно их умножить. Что дает умножение строки? <b>Она выводится несколько раз подряд</b>! Теперь это можно поставить на службу человечеству.\n",
    "\n",
    "Чтобы не печатать тройку много раз, давайте создадим переменную <b>n</b> и ей присвоим это число. И теперь воспользуемся тем, что усвоили в этой главе."
   ]
  },
  {
   "cell_type": "code",
   "execution_count": null,
   "metadata": {
    "collapsed": true
   },
   "outputs": [],
   "source": [
    "n = 3\n",
    "\n",
    "print(hoholok * 3)\n",
    "print(glazki * 3)\n",
    "print(kluvik * 3)\n",
    "print(puziko * 3)\n",
    "print(lapki * 3)"
   ]
  },
  {
   "cell_type": "markdown",
   "metadata": {},
   "source": [
    "Если вы выполнили ячейку, вы увидите, что я вас не обманул и получилось 3 пингвина.\n",
    "\n",
    "<img src='https://media.giphy.com/media/4QHzgFhwPSDle/giphy.gif'>"
   ]
  },
  {
   "cell_type": "markdown",
   "metadata": {},
   "source": [
    "Прежде, чем покончим со строками и перейдем к более интересному, немного о комментариях в коде. Можно увидеть в массивных объёмах в семинаре и в первой ячейке моего документа текст после символа <b>'#'</b>. Так вот,"
   ]
  },
  {
   "cell_type": "code",
   "execution_count": null,
   "metadata": {
    "collapsed": true
   },
   "outputs": [],
   "source": [
    "# это - комментарий"
   ]
  },
  {
   "cell_type": "markdown",
   "metadata": {},
   "source": [
    "<b>Комментарий</b> &mdash; это та часть кода, которая не имеет функциональной нагрузки и никогда не выполняется. Она нужна, прежде всего, для объяснения каких-то неочевидных с первого раза частей программы или для обозначения мест, которые нужно дописать/доделать.\n",
    "\n",
    "Чтобы написать комментарий на много строк, не обязательно ставить решётку в начале каждой. Можно воспользоваться символом троеточия (<b>'''</b>)"
   ]
  },
  {
   "cell_type": "code",
   "execution_count": null,
   "metadata": {
    "collapsed": true
   },
   "outputs": [],
   "source": [
    "'''\n",
    "O tempora, o mores! \n",
    "Senatus haec intellegit.\n",
    "Consul videt; hic tamen vivit.\n",
    "Vivit? \n",
    "immo vero etiam in senatum venit, \n",
    "fit publici consilii particeps, \n",
    "notat et designat oculis ad caedem unum quemque nostrum. \n",
    "Nos autem fortes viri satis facere rei publicae videmur, \n",
    "si istius furorem ac tela vitemus. \n",
    "Ad mortem te, Catilina, \n",
    "duci iussu consulis iam pridem oportebat, \n",
    "in te conferri pestem, quam tu in nos [omnes iam diu] machinaris.\n",
    "'''"
   ]
  },
  {
   "cell_type": "markdown",
   "metadata": {},
   "source": [
    "## IV. Типы данных и переменные и что про них нужно знать.  Списки и словари"
   ]
  },
  {
   "cell_type": "markdown",
   "metadata": {},
   "source": [
    "Очень частая, даже обыденная ситуация заключается в том, что нужно хранить сразу много объектов одного типа в одном месте. Для этого существует целая плеяда типов данных, которые собирательно называются <b>\"контейнерами\"</b> (англ. contain &mdash; содержать).\n",
    "\n",
    "<img src='https://media.giphy.com/media/huWcRHuN4LCQE/giphy.gif'>"
   ]
  },
  {
   "cell_type": "markdown",
   "metadata": {},
   "source": [
    "На семинаре обсуждались два самых популярных и необходимых типа <b>контейнеров</b> &mdash; <b>список (list)</b> и <b>словарь (dict)</b>.\n",
    "\n",
    "Чтобы создать список из элементов, используются квадратные скобки []"
   ]
  },
  {
   "cell_type": "code",
   "execution_count": null,
   "metadata": {
    "collapsed": true
   },
   "outputs": [],
   "source": [
    "mylist = [1, 3, 2, 4]\n",
    "mylist_strings = ['la', 'la', 'land']"
   ]
  },
  {
   "cell_type": "markdown",
   "metadata": {},
   "source": [
    "<b>Список</b> работает так: у вас есть набор объектов, вы помещаете их в list, и каждый объект получает <b>индекс</b>, совпадающий с его порядковым номером в списке слева направо, при этом (это важно) <b>порядок начинается с нуля</b>. Итого, про у каждого объекта в списке есть\n",
    "\n",
    "- его значение (он сам)\n",
    "- его индекс\n",
    "\n",
    "Вопспринимайте индекс как \"адрес\" элемента в массиве. Если известен индекс, по нему можно <b>\"обратиться\"</b>, то есть вы называете индекс объекта в массиве &mdash; и получаете его значение. Делается это указыванием индекса в квадратных скобках после наименования списка, где объект лежит, вот так:"
   ]
  },
  {
   "cell_type": "code",
   "execution_count": null,
   "metadata": {
    "collapsed": true
   },
   "outputs": [],
   "source": [
    "mylist[1]"
   ]
  },
  {
   "cell_type": "markdown",
   "metadata": {},
   "source": [
    "Мы только что извлекли элемент списка <i>mylist</i> с индексом 1 (т.е. второй по порядку)."
   ]
  },
  {
   "cell_type": "markdown",
   "metadata": {},
   "source": [
    "Можно извлечь несколько подряд идущих объектов, указав индекс первого и (внимание!) <b>индекс последнего, увеличенный на один</b>. Это называется <b>срезом</b> (англ. slice). Срез прописывается почти так же, как и обращение по индексу.\n",
    "\n",
    "То есть, если мы хотим получить элементы <i>mylist</i> с индексами 1 и 2, нужно указать срез 1:3. Делается это так "
   ]
  },
  {
   "cell_type": "code",
   "execution_count": null,
   "metadata": {
    "collapsed": true
   },
   "outputs": [],
   "source": [
    "mylist[1:3]"
   ]
  },
  {
   "cell_type": "markdown",
   "metadata": {},
   "source": [
    "Обратите внимание, что на выходе получаем <b>список</b> из нужных элементов.\n",
    "\n",
    "Можно обращаться по индексу и справа налево. Тогда нумерация идет с -1 по убыванию. То есть вот так можно получить последний элемент массива, если вам неохота считать, какой он по порядку"
   ]
  },
  {
   "cell_type": "code",
   "execution_count": null,
   "metadata": {
    "collapsed": true
   },
   "outputs": [],
   "source": [
    "mylist[-1]"
   ]
  },
  {
   "cell_type": "markdown",
   "metadata": {},
   "source": [
    "А вот так &mdash; предпоследний"
   ]
  },
  {
   "cell_type": "code",
   "execution_count": null,
   "metadata": {
    "collapsed": true
   },
   "outputs": [],
   "source": [
    "mylist[-2]"
   ]
  },
  {
   "cell_type": "markdown",
   "metadata": {},
   "source": [
    "И так далее.\n",
    "\n",
    "Мы разобрались, как получать информацию из списка, теперь разберемся, как поменять что-то в списке.\n",
    "\n",
    "Элементам списка могут <b>присваиваться</b> новые значения, точно так же и таким же образом, как и было с <b>переменными</b> ранее. Только сначала нужно к элементу обратиться.\n",
    "\n",
    "Вот к примеру, хотим поменять второй элемент массива (индекс у него, как вы помните, 1). Тогда нужно сначала обратиться по индексу 1 списка, а потом присвоить ему новое значение. Вот так:"
   ]
  },
  {
   "cell_type": "code",
   "execution_count": null,
   "metadata": {
    "collapsed": true
   },
   "outputs": [],
   "source": [
    "mylist[1] = 5\n",
    "print(mylist)"
   ]
  },
  {
   "cell_type": "markdown",
   "metadata": {},
   "source": [
    "Видим, что второй элемент списка поменял своё значение на 5.\n",
    "\n",
    "Допустим, мы хотим добавить в список еще элемент. Делается это обычно с помощью метода <b>append()</b>, применяемого к списку: на вход ему подаём элемент, который хотим вставить, на выход не получаем ничего, но при этом в сам список <b>в конце</b> добавляется новый элемент."
   ]
  },
  {
   "cell_type": "code",
   "execution_count": null,
   "metadata": {
    "collapsed": true
   },
   "outputs": [],
   "source": [
    "mylist.append(6)\n",
    "print(mylist)"
   ]
  },
  {
   "cell_type": "markdown",
   "metadata": {},
   "source": [
    "Ну и наконец, спискам подвластны некоторые арифметические операции - те же сложение и умножение на целое число"
   ]
  },
  {
   "cell_type": "code",
   "execution_count": null,
   "metadata": {
    "collapsed": true
   },
   "outputs": [],
   "source": [
    "list1 = ['la']\n",
    "list2 = ['la', 'land']\n",
    "print(list1 + list2)"
   ]
  },
  {
   "cell_type": "code",
   "execution_count": null,
   "metadata": {
    "collapsed": true
   },
   "outputs": [],
   "source": [
    "print(list1 * 3)"
   ]
  },
  {
   "cell_type": "markdown",
   "metadata": {},
   "source": [
    "Количество элементов (\"длину\") списка можно померить с помощью метода <b>len()</b>"
   ]
  },
  {
   "cell_type": "code",
   "execution_count": null,
   "metadata": {
    "collapsed": true
   },
   "outputs": [],
   "source": [
    "print(mylist)\n",
    "len(mylist)"
   ]
  },
  {
   "cell_type": "markdown",
   "metadata": {},
   "source": [
    "Теперь о словарях (dict)\n",
    "\n",
    "<img src='https://media.giphy.com/media/l2Je66zG6mAAZxgqI/giphy.gif'>"
   ]
  },
  {
   "cell_type": "markdown",
   "metadata": {},
   "source": [
    "Предположим, что возникла ситуация, когда нам не слишком удобно использовать индексы для обращения к элементам и мы хотим использовать что-то интуитивно понятнее. К примеру у нас есть несколько животных, и у них есть клички:\n",
    "\n",
    "- собака Снупи\n",
    "- кот Гарфилд\n",
    "- рыбка Немо\n",
    "- мышь Микки\n",
    "\n",
    "Куда логичнее не присваивать им номера, а присвоить им их билогические определения. Для того и есть словари! Создаются Они с помощью фигурных скобок <b>{}</b>"
   ]
  },
  {
   "cell_type": "code",
   "execution_count": null,
   "metadata": {
    "collapsed": true
   },
   "outputs": [],
   "source": [
    "pets_dict = {'Dog' : 'Snoopy', 'Cat' : 'Garfield', 'Fish': 'Nemo', 'Mouse': 'Mickey'}\n",
    "nums_dict = {'one': 1, 'two': 2, 'five': 5, 'six': 6, 'eight': 8, 'nine': 9}"
   ]
  },
  {
   "cell_type": "markdown",
   "metadata": {},
   "source": [
    "Тут идея такая: в отличие от списка, у каждого объекта есть не индекс, а некоторый <b>\"ключ\"</b>, который может быть, например, строкой или числом. И каждый элемент словаря будет представлять из себя такую пару \"ключ:значение(объект)\". Обращаемся, соотвественно, уже не по индексу, а по заданному ключу. Например, хотим получить Гарфилда из словаря питомцев, тогда обращаемся к словарю по ключу \"Кот\", как делали со списками"
   ]
  },
  {
   "cell_type": "code",
   "execution_count": null,
   "metadata": {
    "collapsed": true
   },
   "outputs": [],
   "source": [
    "pets_dict['Cat']"
   ]
  },
  {
   "cell_type": "markdown",
   "metadata": {},
   "source": [
    "Все ключи можно получить применением метода <b>keys()</b> к словарю"
   ]
  },
  {
   "cell_type": "code",
   "execution_count": null,
   "metadata": {
    "collapsed": true
   },
   "outputs": [],
   "source": [
    "print(pets_dict.keys())"
   ]
  },
  {
   "cell_type": "markdown",
   "metadata": {},
   "source": [
    "Ну и добавлять элементы в словарь можно присваиванием по тому ключу, который мы хотим иметь для нового элемента."
   ]
  },
  {
   "cell_type": "code",
   "execution_count": null,
   "metadata": {
    "collapsed": true
   },
   "outputs": [],
   "source": [
    "pets_dict['Woodpecker'] = 'Woody'"
   ]
  },
  {
   "cell_type": "markdown",
   "metadata": {},
   "source": [
    "Так, в словаре про питомцев появилась запись о Вуди с ключом \"Дятел\""
   ]
  },
  {
   "cell_type": "code",
   "execution_count": null,
   "metadata": {
    "collapsed": true
   },
   "outputs": [],
   "source": [
    "pets_dict"
   ]
  },
  {
   "cell_type": "markdown",
   "metadata": {},
   "source": [
    " ## V.Условные операторы и циклы\n",
    " \n",
    " <img src='http://krivaksin.ru/wp-content/uploads/2015/11/2015-11-11-11-51-19-Microsoft-PowerPoint-Prezentatsiya1.png'>"
   ]
  },
  {
   "cell_type": "markdown",
   "metadata": {},
   "source": [
    "Теперь, разобравшись в переменных и тпах данных, поговорим о том, как писать условные операторы. Часто требуется проверять какие-то условия на правильность. В Python это делается с помощью связки <b>If-Else</b>. Синтаксис следующий: сначала пишется <b>if</b> и то условие, которое хотим проверить. Дальше двоеточие. Потом обязательно отступ 4 строки: пишем то действие, что хотим сделать при выполнении условия. Когда выполнили все действия, что хотели, прекращаем оступать.\n",
    "\n",
    "Далее, при надобности каких-то действий при невыполнении условия, пишем else, двоеточие, и так же с отступом то, что делаем.\n",
    "\n",
    "Еще важный момент: эквивалентность чего-то чему-то в условии пишется знаком <b>\"==\"</b>.\n",
    "\n",
    "Ну я думаю, что тут проще показать и прокомментировать, поэтому возьмём пример с семинара. Вот проверка числа на четность."
   ]
  },
  {
   "cell_type": "code",
   "execution_count": null,
   "metadata": {
    "collapsed": true
   },
   "outputs": [],
   "source": [
    "a = 3\n",
    "\n",
    "print('\\nis it an odd number?')\n",
    "if not a % 2 == 0:\n",
    "    print(\"YES\")\n",
    "else:\n",
    "    print(\"NO\")\n",
    "print(\"that's it\")"
   ]
  },
  {
   "cell_type": "markdown",
   "metadata": {},
   "source": [
    "Итак, что только что произошло? у нас была переменная a, которой присвоили число 3. Дальше проверяем, выполняется ли условие <b>\"не верно, что остаток от деления а на 2 равен 0\"</b>. <b>Если</b> условие выполнено, то печатаем \"ДА\", <b>иначе</b> печатаем \"НЕТ\"."
   ]
  },
  {
   "cell_type": "markdown",
   "metadata": {},
   "source": [
    "Циклы. Есть два их вида: <b>с повторениями (for)</b> и <b>с условием (while)</b>. Идея такая:\n",
    "\n",
    "Цикл for - нужно повторить что-нибудь n-ное количество раз.\n",
    "\n",
    "Цикл while - нужно повторить что-нибудь, пока не будет выполнено определенное условие.\n",
    "\n",
    "Как выглядит на практике: вот есть у нас список покупок, как было на семинаре. Хотим напечатать первые четыре элемента из него."
   ]
  },
  {
   "cell_type": "code",
   "execution_count": null,
   "metadata": {
    "collapsed": true
   },
   "outputs": [],
   "source": [
    "shoplist = ['apple', 'cola', 'milk', 'bread', 'towel']\n",
    "\n",
    "for item in range(4):\n",
    "    print(shoplist[item])"
   ]
  },
  {
   "cell_type": "markdown",
   "metadata": {},
   "source": [
    "Что сделали: написали, что <b>для</b> каждого индекса до 4 не включая (функция <b>range(x,y)</b> задает диапазон чисел для цикла от x до y-1) обращаемся по этому индексу в список shoplitst и просим напечатать получившееся значение. Итого: обратились 4 раза и напечатали 4 раза.\n",
    "\n",
    "Обращаю внимание, что правила касаемо двоеточия и отступов совпадают с правилами для условного оператора."
   ]
  },
  {
   "cell_type": "markdown",
   "metadata": {},
   "source": [
    "А можно сделать гораздо проще: <b>in</b> в цикле позволяет работать не только с диапазоном чисел, а со списками, то что на каждой итерации цикла мы можем так получать не индекс элемента, а сам элемент. Посмотрите:"
   ]
  },
  {
   "cell_type": "code",
   "execution_count": null,
   "metadata": {
    "collapsed": true
   },
   "outputs": [],
   "source": [
    "for item in shoplist:\n",
    "    print(item)"
   ]
  },
  {
   "cell_type": "markdown",
   "metadata": {},
   "source": [
    "Буквально: <b>для</b> каждого элемента списка <b>shoplist</b> распечатать <b>этот элемент</b>.\n",
    "\n",
    "Теперь по циклу <b>while</b>: можете считать его некоторым гибридом <b>условного оператора</b> и <b>цикла с повторениями</b>. Если конкретнее: мы проверяем условие и делаем действие, как в условном операторе, но при этом делаем его много раз: пока условие выполняется. Поэтому при написании таких циклов нужно быть внимательнее: если вы напишете условие, которое всегда остаётся верным, цикл будет выполняться бесконечно!\n",
    "\n",
    "В качестве иллюстрации оставлю пример с турникетами, вроде, его достаточно хорошо все на семинаре понимали и проблем не возникало. В принципе, он говорит сам за себя"
   ]
  },
  {
   "cell_type": "code",
   "execution_count": null,
   "metadata": {
    "collapsed": true
   },
   "outputs": [],
   "source": [
    "number_of_trips = 10 \n",
    "\n",
    "while number_of_trips > 0:\n",
    "    number_of_trips = number_of_trips - 1\n",
    "    print(number_of_trips, 'Проходим!')"
   ]
  },
  {
   "cell_type": "markdown",
   "metadata": {},
   "source": [
    "Ну и наконец то, чего все страшно на семинаре боялись: решим бонусом бонусную задачу о словаре гика\n",
    "\n",
    "<img src='https://media.giphy.com/media/YEJCmIYd5YWCk/giphy.gif'>\n",
    "\n",
    "У нас есть так называемый словарь типичного программиста."
   ]
  },
  {
   "cell_type": "code",
   "execution_count": null,
   "metadata": {
    "collapsed": true
   },
   "outputs": [],
   "source": [
    "geek_dict = {'bugs': 'mistakes',\n",
    "             'debug': 'find a mistake',\n",
    "             'neuralnet': 'some magic method',\n",
    "             'monty': 'python',\n",
    "             'jimmy': 'newbie'\n",
    "            }"
   ]
  },
  {
   "cell_type": "markdown",
   "metadata": {},
   "source": [
    "На вход поступает строка с разделёнными пробелами словами"
   ]
  },
  {
   "cell_type": "code",
   "execution_count": null,
   "metadata": {
    "collapsed": true
   },
   "outputs": [],
   "source": [
    "s = 'monty code is full of bugs'"
   ]
  },
  {
   "cell_type": "markdown",
   "metadata": {},
   "source": [
    "Потом мы разбивали строку на список из слов по пробелу. Делается это методом <b>split()</b> для строки. Работает так: на входе &mdash; символ, по которому мы хотим разделить строку (в нашем случае нам нужен пробел, а так может быть всё что угодно, например, дефисы, нижние подчёркивания...), на выходе &mdash; список, где каждый элемент является словом из строки."
   ]
  },
  {
   "cell_type": "code",
   "execution_count": null,
   "metadata": {
    "collapsed": true
   },
   "outputs": [],
   "source": [
    "words = s.split(' ')\n",
    "print(words)"
   ]
  },
  {
   "cell_type": "markdown",
   "metadata": {},
   "source": [
    "Теперь нам нужно каждое слово из этого списка по заданию попытаться перевести с помощью словаря программиста. А что если слова нет в словаре? Для этого нужно каждое слово проверить на наличие как ключа в словаре. <b>\"Каждое\"</b> значит, что нужен цикл. <b>\"Проверить\"</b> &mdash; нужен условный оператор. Но при этом while не подойдет, так как если мы слово в словре не нашли, то заканчивать проверять не должны. Получается, нужна комбинация <b>for</b> и <b>if</b>. \n",
    "\n",
    "Итак, идём циклом по каждому слову из списка <b>words</b>. Для каждого слова проверяем: есть ли оно среди ключей словаря (помните, как мы все ключи словаря получали?). Если есть, то меняем на значение, которое получим, обращаясь по ключу. Иначе оставляем как есть.\n",
    "\n",
    "Ну, на бумаге вроде разобрались. Осталось только вспомнить, как for и if писать. Внимательнее с отступами!\n",
    "\n",
    "Еще нюанс: чтобы всё вывелось на одной строке, просто сделаем новую пустую строку в начале, будем в неё добавлять нужные слова, а потом просто напечатаем один раз в конце. После каждого добавленного в строку слова ставим еще пробел ' ', чтобы слова в ответе не \"слиплись\" в одно."
   ]
  },
  {
   "cell_type": "code",
   "execution_count": null,
   "metadata": {
    "collapsed": true
   },
   "outputs": [],
   "source": [
    "answer = ''\n",
    "\n",
    "for word in words:\n",
    "    if word in geek_dict.keys():\n",
    "        # Комментарий: answer += geek_dict[word] - то же самое, что answer = answer + geek_dict[word], только короче\n",
    "        answer += geek_dict[word] + ' '\n",
    "    else:\n",
    "        answer += word + ' '\n",
    "        \n",
    "print(answer)"
   ]
  },
  {
   "cell_type": "markdown",
   "metadata": {},
   "source": [
    "## Эпилог\n",
    "\n",
    "Это всё, что нужно освоить до NumPy и Pandas из первого семинара. Надеюсь, после чуть более подробного объяснения хоть что-то стало понятнее. Если у вас есть вопросы или жалобы/предложения, не стесняйтесь писать: @adhaesitadimo.\n",
    "\n",
    "Не сегодня-завтра выйдет еще вторая часть про то, что нужно знать о NumPy и Matplotlib, там где-то в таком же стиле объясню основные моменты, которые нужно знать.\n",
    "\n",
    "163 группа: в субботу на семинаре мы посвятим значительное время (около 40 минут) повторению каких-то базовых понятий перед Pandas, поэтому можно будет еще раз всё это проговорить.\n",
    "\n",
    "Спасибо большое студентам группы 163 за вопросы, советы и пожелания.\n",
    "\n",
    "Увидимся в телеграме и на занятиях!\n",
    "\n",
    "<img src='https://media.giphy.com/media/7yojoQtevjOCI/giphy.gif'>"
   ]
  },
  {
   "cell_type": "code",
   "execution_count": null,
   "metadata": {
    "collapsed": true
   },
   "outputs": [],
   "source": []
  }
 ],
 "metadata": {
  "kernelspec": {
   "display_name": "Python 3",
   "language": "python",
   "name": "python3"
  },
  "language_info": {
   "codemirror_mode": {
    "name": "ipython",
    "version": 3
   },
   "file_extension": ".py",
   "mimetype": "text/x-python",
   "name": "python",
   "nbconvert_exporter": "python",
   "pygments_lexer": "ipython3",
   "version": "3.6.1"
  }
 },
 "nbformat": 4,
 "nbformat_minor": 2
}
