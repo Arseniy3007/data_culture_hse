{
 "cells": [
  {
   "cell_type": "markdown",
   "metadata": {},
   "source": [
    "# Повторение Python\n",
    "\n",
    "#### Краткая инструкция на все случаи жизни:\n",
    "- Как создать новую ячейку?\n",
    "> Просто `нажать кнопку +`.\n",
    "\n",
    "- Как запустить код в ячейке?\n",
    "\n",
    "> Выделить ячейку и `нажать кнопку Run` или `Ctrl + Enter` *(см. Help - Keyboard Shortcuts)*.\n",
    "\n",
    "- Как понять, что код успешно выполнен?\n",
    "\n",
    "> Под ячейкой не появились сообщения об ошибках + поле `In []` слева от ячейки содержит число, а не символ `*`.\n",
    "\n",
    "\n",
    "*В некоторых ячейках вам придётся дописать свой код и выполнить его.*"
   ]
  },
  {
   "cell_type": "markdown",
   "metadata": {},
   "source": [
    "## Python и котики\n",
    "Воспользуемся примером с лекции (см. http://www.statcats.ru) и посчитаем средний размер котиков.\n",
    "![](https://4.bp.blogspot.com/-3phAraz27wc/VvpbBDormwI/AAAAAAAAA20/QGAyKc6FezQZM5mfXGcnWTWir2XzLQjpgCPcB/s1600/%25D0%25A1%25D1%2580%25D0%25B5%25D0%25B4%25D0%25BD%25D0%25B5%25D0%25B5%2B%25D0%25B7%25D0%25BD%25D0%25B0%25D1%2587%25D0%25B5%25D0%25BD%25D0%25B8%25D0%25B5.jpg)\n",
    "\n",
    "Что для этого понадобится?\n",
    "- список, в котором будут храниться размеры"
   ]
  },
  {
   "cell_type": "code",
   "execution_count": null,
   "metadata": {},
   "outputs": [],
   "source": [
    "cats_sizes = [1, 2, 3, 4, 5, 2, 2, 1]\n",
    "\n",
    "# создайте список с любимыми размерами котиков (не меньше 5 штук)\n",
    "user_cats_sizes = []\n",
    "\n",
    "# объединим списки в один\n",
    "cats_sizes = cats_sizes + user_cats_sizes\n",
    "print(cats_sizes)"
   ]
  },
  {
   "cell_type": "markdown",
   "metadata": {},
   "source": [
    "### Ещё раз пример с циклом for\n",
    "Пусть у нас есть список покупок и мы хотим к каждому слову добавить строку \" +\" и вывести его на экран."
   ]
  },
  {
   "cell_type": "code",
   "execution_count": null,
   "metadata": {},
   "outputs": [],
   "source": [
    "# У нас есть список покупок:\n",
    "shoplist = ['apple', 'cola', 'milk', 'bread', 'towel']\n",
    "add_sign = \" +\""
   ]
  },
  {
   "cell_type": "markdown",
   "metadata": {},
   "source": [
    "Можно сделать это руками:"
   ]
  },
  {
   "cell_type": "code",
   "execution_count": null,
   "metadata": {},
   "outputs": [],
   "source": [
    "item = shoplist[0]\n",
    "# эквивалентно конструкции item = item + add_sign\n",
    "item += add_sign\n",
    "print(item)\n",
    "\n",
    "item = shoplist[1]\n",
    "item += add_sign\n",
    "print(item)\n",
    "\n",
    "item = shoplist[2]\n",
    "item += add_sign\n",
    "print(item)\n",
    "\n",
    "item = shoplist[3]\n",
    "item += add_sign\n",
    "print(item)\n",
    "\n",
    "item = shoplist[4]\n",
    "item += add_sign\n",
    "print(item)"
   ]
  },
  {
   "cell_type": "markdown",
   "metadata": {},
   "source": [
    "А можно заставить Python делать ровно то же самое:"
   ]
  },
  {
   "cell_type": "code",
   "execution_count": null,
   "metadata": {},
   "outputs": [],
   "source": [
    "# переменная item последовательно принимает значения элементов списка\n",
    "for item in shoplist:\n",
    "    item += add_sign\n",
    "    print(item)"
   ]
  },
  {
   "cell_type": "markdown",
   "metadata": {},
   "source": [
    "Вернёмся к котикам. Помимо списка размеров нам ещё понадобится\n",
    "- переменная, в которой будет храниться ..."
   ]
  },
  {
   "cell_type": "code",
   "execution_count": null,
   "metadata": {},
   "outputs": [],
   "source": []
  },
  {
   "cell_type": "markdown",
   "metadata": {},
   "source": [
    "### Напоминание про NumPy и matplotlib"
   ]
  },
  {
   "cell_type": "code",
   "execution_count": null,
   "metadata": {},
   "outputs": [],
   "source": [
    "# подключите модуль numpy под именем np"
   ]
  },
  {
   "cell_type": "code",
   "execution_count": null,
   "metadata": {},
   "outputs": [],
   "source": [
    "# подключение библиотеки matplotlib.pyplot под именем plt\n",
    "import matplotlib.pyplot as plt\n",
    "# чтобы графики рисовались прямо в ячейке, а не в отдельном окне\n",
    "%matplotlib inline"
   ]
  },
  {
   "cell_type": "markdown",
   "metadata": {},
   "source": [
    "Заведите два массива чисел:\n",
    "- массив с размерами обедов котиков `cats_dinners` с элементами 1, 2, 3, 4, 5, 6, 7, 8, 9, 10\n",
    "- массив с размерами самих котиков `cats_sizes` с элементами 2, 2, 4, 2, 10, 7, 8, 8, 5, 11"
   ]
  },
  {
   "cell_type": "code",
   "execution_count": null,
   "metadata": {},
   "outputs": [],
   "source": [
    "cats_dinners = # YOUR CODE\n",
    "cats_sizes = # YOUR CODE"
   ]
  },
  {
   "cell_type": "markdown",
   "metadata": {},
   "source": [
    "Постройте график зависимости размера котика от размера его обеда с помощью `plt.plot`:"
   ]
  },
  {
   "cell_type": "code",
   "execution_count": null,
   "metadata": {},
   "outputs": [],
   "source": [
    "# здесь просто рисуется прямая линия\n",
    "plt.plot(cats_dinners, cats_dinners)\n",
    "\n",
    "# а здесь надо нарисовать почти то же самое, но другое"
   ]
  }
 ],
 "metadata": {
  "kernelspec": {
   "display_name": "Python 3",
   "language": "python",
   "name": "python3"
  },
  "language_info": {
   "codemirror_mode": {
    "name": "ipython",
    "version": 3
   },
   "file_extension": ".py",
   "mimetype": "text/x-python",
   "name": "python",
   "nbconvert_exporter": "python",
   "pygments_lexer": "ipython3",
   "version": "3.6.4"
  }
 },
 "nbformat": 4,
 "nbformat_minor": 2
}
