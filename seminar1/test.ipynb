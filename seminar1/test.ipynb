{
 "cells": [
  {
   "cell_type": "code",
   "execution_count": 1,
   "metadata": {},
   "outputs": [],
   "source": [
    "import numpy as np\n",
    "import pandas as pd\n",
    "import copy\n",
    "import matplotlib.pyplot as plt"
   ]
  },
  {
   "cell_type": "markdown",
   "metadata": {},
   "source": [
    "Сделайте view -> toggle line numbers, так проще дебажить"
   ]
  },
  {
   "cell_type": "markdown",
   "metadata": {},
   "source": [
    "## List"
   ]
  },
  {
   "cell_type": "code",
   "execution_count": 2,
   "metadata": {},
   "outputs": [
    {
     "name": "stdout",
     "output_type": "stream",
     "text": [
      "+ 1 point\n",
      "+ 1 point\n",
      "+ 1 point\n",
      "+ 1 point\n",
      "test passed!\n"
     ]
    }
   ],
   "source": [
    "# 1. Создайте лист \"test_list\" из 4 элементов типов: int, float, str, bool\n",
    "##### YOUR CODE HERE\n",
    "\n",
    "test_list = \n",
    "\n",
    "#### END OF YOUR CODE\n",
    "assert isinstance(test_list, list), 'test_list is not a list'\n",
    "assert len(test_list) == 4, 'list length is not 3'\n",
    "for i, type_of_object, name in zip(range(4,),[int, float, str, bool], ['int', 'float', 'str', 'bool']):\n",
    "    assert isinstance(test_list[i], type_of_object), str(i) + ' element is not ' + name\n",
    "print('+ 1 point')\n",
    "\n",
    "# 2. Добавьте несколько элементов  \n",
    "##### YOUR CODE HERE\n",
    "\n",
    "#### END OF YOUR CODE \n",
    "assert len(test_list) != 4, 'list length is 4'\n",
    "_ = copy.copy(test_list)\n",
    "print('+ 1 point')\n",
    "\n",
    "# 3. Поменяйте любой элемент в вашем листе\n",
    "##### YOUR CODE HERE\n",
    "\n",
    "\n",
    "#### END OF YOUR CODE \n",
    "assert test_list != _, 'your list unchanged'\n",
    "print('+ 1 point')\n",
    "\n",
    "# 4. Запишите в переменную \"new_list\" все элементы, начиная со 2 и заканчивая 4 (не включительно)\n",
    "##### YOUR CODE HERE\n",
    "\n",
    "\n",
    "#### END OF YOUR CODE \n",
    "assert new_list == test_list[1:3], 'something wrong'\n",
    "print('+ 1 point')\n",
    "print(\"test passed!\")\n"
   ]
  },
  {
   "cell_type": "markdown",
   "metadata": {},
   "source": [
    "## dict"
   ]
  },
  {
   "cell_type": "code",
   "execution_count": null,
   "metadata": {},
   "outputs": [],
   "source": [
    "# 1. Создайте словарь \"test_dict\" не менее, чем с 4 элементами.\n",
    "##### YOUR CODE HERE\n",
    "\n",
    "test_dict =\n",
    "\n",
    "#### END OF YOUR CODE\n",
    "assert isinstance(test_dict, dict), 'test_dict is not a dict'\n",
    "print('+ 1 point')\n",
    "\n",
    "# 2. Добавьте элемент с ключом \"key\" и значением \"value\". Запишите значение по этому ключу в переменную \"my_value\"\n",
    "##### YOUR CODE HERE\n",
    "\n",
    "\n",
    "\n",
    "#### END OF YOUR CODE\n",
    "assert 'key' in test_dict and test_dict['key'] == 'value'\n",
    "print('+ 1 point')\n",
    "print(\"test passed!\")"
   ]
  },
  {
   "cell_type": "markdown",
   "metadata": {},
   "source": [
    "## matplotlib"
   ]
  },
  {
   "cell_type": "code",
   "execution_count": null,
   "metadata": {},
   "outputs": [],
   "source": [
    "# 1. Создайте любой график, кроме y = x\n",
    "# ps: если вы хотите пользоваться приемами numpy (y = x ** 2), вам нужно пользоваться структурами numpy\n",
    "# Например, x = np.array([1,2,3]);\n"
   ]
  },
  {
   "cell_type": "markdown",
   "metadata": {},
   "source": [
    "## numpy"
   ]
  },
  {
   "cell_type": "code",
   "execution_count": null,
   "metadata": {},
   "outputs": [],
   "source": [
    "vector_1 =  np.array([1,2,3])\n",
    "vector_2 =  np.array([-1,-2,-3])\n",
    "\n",
    "# 1. Сложите два вектора и запишите в переменную answer\n",
    "\n",
    "##### YOUR CODE HERE\n",
    "\n",
    "\n",
    "\n",
    "#### END OF YOUR CODE\n",
    "\n",
    "assert all(answer == np.array([0,0,0])), 'something wrong'\n",
    "print('+ 1 point')\n",
    "\n",
    "# 2. Примените к первому вектору операцию tanh и запишите в переменную answer\n",
    "\n",
    "\n",
    "\n",
    "assert all(np.isclose(answer, [ 0.76159416,  0.96402758,  0.99505475])), 'something wrong'\n",
    "print('+ 1 point')\n",
    "\n",
    "print(\"test passed!\")"
   ]
  },
  {
   "cell_type": "markdown",
   "metadata": {},
   "source": [
    "## pandas"
   ]
  },
  {
   "cell_type": "code",
   "execution_count": null,
   "metadata": {},
   "outputs": [],
   "source": [
    "# 1. Создайте любую таблицу в pandas с тремя столбцами \"wage\", \"sex\", \"name\".\n",
    "# 2. Посчитайте среднюю зарплату.\n",
    "# 3. Выведите на экран только строки с женщинами."
   ]
  },
  {
   "cell_type": "code",
   "execution_count": null,
   "metadata": {},
   "outputs": [],
   "source": []
  }
 ],
 "metadata": {
  "kernelspec": {
   "display_name": "Python 3",
   "language": "python",
   "name": "python3"
  },
  "language_info": {
   "codemirror_mode": {
    "name": "ipython",
    "version": 3
   },
   "file_extension": ".py",
   "mimetype": "text/x-python",
   "name": "python",
   "nbconvert_exporter": "python",
   "pygments_lexer": "ipython3",
   "version": "3.6.4"
  }
 },
 "nbformat": 4,
 "nbformat_minor": 2
}
