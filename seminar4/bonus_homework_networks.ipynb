{
 "cells": [
  {
   "cell_type": "markdown",
   "metadata": {},
   "source": [
    "# Бонусное задание по графам и NetworkX\n",
    "Для выполнения заданий понадобится скачать данные о политических блогах: направленная связь между блогами устанавливается, если один процитировал другой."
   ]
  },
  {
   "cell_type": "code",
   "execution_count": null,
   "metadata": {},
   "outputs": [],
   "source": [
    "import networkx as nx\n",
    "import matplotlib.pyplot as plt\n",
    "%matplotlib inline"
   ]
  },
  {
   "cell_type": "markdown",
   "metadata": {},
   "source": [
    "## Повторение NetworkX (1 балл)\n",
    "1. Cчитайте данные из файла `polblogs_edgelist.txt`\n",
    "2. Выведите количество блогов и связей между ними\n",
    "2. Визуализируйте полученный граф (возможно, потребуется увеличить размер графика)"
   ]
  },
  {
   "cell_type": "code",
   "execution_count": null,
   "metadata": {},
   "outputs": [],
   "source": [
    "#YOUR CODE"
   ]
  },
  {
   "cell_type": "markdown",
   "metadata": {},
   "source": [
    "## Анализ связности графа (2 балла)\n",
    "Вам дана функция `shortest_path_lengths`, возвращающая список длин всех кратчайших путей в графе.\n",
    "\n",
    "1. Выведите минимальную, максимальную и среднюю длину кратчайшего пути в графе\n",
    "2. Выведите хотя бы одну пару вершин, кратчайшее расстояние между которыми совпадает с полученным **минимальным**\n",
    "3. Выведите хотя бы одну пару вершин, кратчайшее расстояние между которыми совпадает с полученным **максимальным**\n",
    "\n",
    "(последние два пункта можно выполнить либо методом пристального взгляда, либо дописать немного кода -- на ваше усмотрение)"
   ]
  },
  {
   "cell_type": "code",
   "execution_count": null,
   "metadata": {},
   "outputs": [],
   "source": [
    "def shortest_path_lengths(graph):\n",
    "    '''\n",
    "        Return lengths of all the possible shortest paths in the `graph`.\n",
    "    '''\n",
    "    lengths = []\n",
    "    for node in graph.nodes():\n",
    "        # get a dict of pairs node:path\n",
    "        node_paths = nx.single_source_shortest_path(graph, node)\n",
    "        # remove a self-loop\n",
    "        if node in node_paths:\n",
    "            node_paths.pop(node)\n",
    "        # apply len() to every path and save result\n",
    "        lengths += list(map(len, node_paths.values()))\n",
    "    return lengths"
   ]
  },
  {
   "cell_type": "code",
   "execution_count": null,
   "metadata": {},
   "outputs": [],
   "source": [
    "#YOUR CODE"
   ]
  },
  {
   "cell_type": "markdown",
   "metadata": {},
   "source": [
    "## Метрики на графе (2 балла)\n",
    "\n",
    "Вычислите и проанализируйте следующие метрики:\n",
    "- если фамилия начинается на любую из АБВГДЕЖЗИЙКЛ, проанализируйте центральности по степени (`degree`) и близости (`closeness`)\n",
    "- иначе, проанализируйте центральность по собственному значению (`eigenvector`) и промежуточность (`betweenness`)\n",
    "\n",
    "Полный балл будет ставиться только при наличии пояснений и интерпретации полученных результатов!"
   ]
  },
  {
   "cell_type": "code",
   "execution_count": null,
   "metadata": {},
   "outputs": [],
   "source": [
    "#YOUR CODE"
   ]
  }
 ],
 "metadata": {
  "kernelspec": {
   "display_name": "Python 3",
   "language": "python",
   "name": "python3"
  },
  "language_info": {
   "codemirror_mode": {
    "name": "ipython",
    "version": 3
   },
   "file_extension": ".py",
   "mimetype": "text/x-python",
   "name": "python",
   "nbconvert_exporter": "python",
   "pygments_lexer": "ipython3",
   "version": "3.6.4"
  }
 },
 "nbformat": 4,
 "nbformat_minor": 2
}
